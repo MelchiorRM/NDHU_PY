{
 "cells": [
  {
   "cell_type": "code",
   "execution_count": 2,
   "id": "05850906",
   "metadata": {},
   "outputs": [
    {
     "name": "stdout",
     "output_type": "stream",
     "text": [
      "Dataset Preview:\n",
      "  From   To       Date  Flight Duration  Stops  Price  co2 emissions  \\\n",
      "0  BKK  TPE 2025-06-01              230      0   2927            210   \n",
      "1  BKK  TPE 2025-06-02              220      0   4850            213   \n",
      "2  BKK  TPE 2025-06-03              230      0   3531            208   \n",
      "3  BKK  TPE 2025-06-04              230      0   3230            208   \n",
      "4  BKK  TPE 2025-06-05              230      0   2965            223   \n",
      "\n",
      "  Day_of_Week  Week Month    Route   Country  Direction  \n",
      "0      Sunday    22  June  BKK-TPE  Thailand  To Taipei  \n",
      "1      Monday    23  June  BKK-TPE  Thailand  To Taipei  \n",
      "2     Tuesday    23  June  BKK-TPE  Thailand  To Taipei  \n",
      "3   Wednesday    23  June  BKK-TPE  Thailand  To Taipei  \n",
      "4    Thursday    23  June  BKK-TPE  Thailand  To Taipei  \n"
     ]
    }
   ],
   "source": [
    "import pandas as pd\n",
    "import numpy as np\n",
    "import seaborn as sns\n",
    "import matplotlib.pyplot as plt\n",
    "import plotly.express as px\n",
    "import plotly.graph_objects as go\n",
    "from plotly.subplots import make_subplots\n",
    "from datetime import datetime\n",
    "import calendar\n",
    "#Styles\n",
    "sns.set(style=\"whitegrid\")\n",
    "plt.style.use('ggplot')\n",
    "pd.set_option('display.float_format', '{:.2f}'.format)\n",
    "import plotly.io as pio\n",
    "pio.templates.default = \"plotly_white\"\n",
    "\n",
    "# Load dataset\n",
    "df = pd.read_csv('clean.csv')\n",
    "\n",
    "# Preprocess data\n",
    "df['Date'] = pd.to_datetime(df['Date'])\n",
    "df['Day_of_Week'] = df['Date'].dt.day_name()\n",
    "df['Week'] = df['Date'].dt.isocalendar().week\n",
    "df['Month'] = df['Date'].dt.month_name()\n",
    "df['Route'] = df['From'] + '-' + df['To']\n",
    "\n",
    "# Map airport codes to countries for ranking section\n",
    "df['Route'] = df['From'] + '-' + df['To']\n",
    "country_map = {\n",
    "    'BKK': 'Thailand', 'CAI': 'Egypt', 'FRA': 'Germany', 'HKG': 'Hong Kong',\n",
    "    'ICN': 'South Korea', 'KUL': 'Malaysia', 'LAX': 'USA', 'TPE': 'Taiwan', 'NRT' : 'Japan', 'SGN' : 'Vietnam', 'SYD' : 'Australia'\n",
    "}\n",
    "df['Country'] = df.apply(lambda x: country_map[x['From']] if x['To'] == 'TPE' else country_map[x['To']], axis=1)\n",
    "df['Country'] = df.apply(\n",
    "        lambda x: country_map[x['From']] if x['To'] == 'TPE' else country_map[x['To']], \n",
    "        axis=1\n",
    "    )\n",
    "    \n",
    "    # Create direction column (to/from Taipei)\n",
    "df['Direction'] = df.apply(\n",
    "        lambda x: 'To Taipei' if x['To'] == 'TPE' else 'From Taipei', \n",
    "        axis=1\n",
    "    )\n",
    "\n",
    "# Display first few rows\n",
    "print(\"Dataset Preview:\")\n",
    "print(df.head())"
   ]
  },
  {
   "cell_type": "markdown",
   "id": "6a102d0d",
   "metadata": {},
   "source": [
    "Artifact 2: Descriptive Statistics"
   ]
  },
  {
   "cell_type": "code",
   "execution_count": 8,
   "id": "c639ae65",
   "metadata": {},
   "outputs": [
    {
     "data": {
      "application/vnd.plotly.v1+json": {
       "config": {
        "plotlyServerURL": "https://plot.ly"
       },
       "data": [
        {
         "marker": {
          "color": "#636EFA"
         },
         "name": "Thailand",
         "showlegend": true,
         "type": "box",
         "xaxis": "x",
         "y": {
          "bdata": "5gDcAOYA5gDmAOYA5gDmAOYA5gDmAOYA5gDmAOYA5gDmAOYA5gDmAOYA5gDmAOYA5gDmAOYA5gDmAOYA5gDmAOYA5gDmAOYA5gDmAOYA5gDmAOYA5gDmAOYA5gDmAOYA5gDmAOYA5gDmAOYA5gDmAOYA5gDmAOYA5gDmAOYA5gDmAOYA5gDmANwA3ADmAOYA3ADmAOYA5gDmAOYA5gDmAOYA5gDmAOYA5gDmAOYA5gDmAOYA5gDmAOUA4QDmAOYA5gDmAOYA5gDmAOEA4QDmAOYA4QDmAOYA5gDmAOYA4QDhAOYA5gDmAOYA5gDmAOEA4QDmAOEA5gDhAOEA4QDhAOYA4QDhAOEA4QDhAOEA4QDmAOYA5gDmAOYA5gDmAOYA5gDhAOYA5gDhAOEA5gDhAOEA5gDmAOEA4QDmAOYA4QDhAOEA4QDhAOEA4QDmAOEA5gDhAOEA5gDhAOEA4QDmAOEA4QDmAOEA4QDhAOEA4QA=",
          "dtype": "i2"
         },
         "yaxis": "y"
        },
        {
         "marker": {
          "color": "#EF553B"
         },
         "name": "Egypt",
         "showlegend": true,
         "type": "box",
         "xaxis": "x",
         "y": {
          "bdata": "eQR5BMgFyAUaBG8EbwQaBBoEGgRvBG8EbwRvBG8EbwRvBBoEbwRvBBoEMgVvBG8EGgRvBG8EbwRvBG8EMgUyBTIFbwRvBG8EbwQyBTIFMgX2BDIF9gRvBDIFbwQyBW8EMgUoBW8EbwQyBW8EbwRvBCgFbwQyBTIFbwRvBG8EKAVvBG8EbwRvBG8EbwQoBW8EMgVvBG8EbwRvBCgFbwQyBW8EbwRvBG8EKAVvBG8EbwRvBG8EbwRvBAwFDAVGBUYFRgXmBUYFiAQPBUYFRgV+BEYFRgWIBIgEWgqIBEYFiASIBIgEiATjA4gEfgSIBEYFiASIBEYFiAR+BIgEiARGBYgERgWIBH4EiASIBIgEiARGBUYFfgSIBEYFiASIBEYFRgV+BIgERgWIBIgERgVGBX4EiARGBYgEiARGBYgEfgSIBIgEiASIBEYFiAR+BIgERgWIBIgERgWIBH4EiASIBIgEiARGBYgEfgSIBIgEiAQ=",
          "dtype": "i2"
         },
         "yaxis": "y"
        },
        {
         "marker": {
          "color": "#00CC96"
         },
         "name": "Germany",
         "showlegend": true,
         "type": "box",
         "xaxis": "x",
         "y": {
          "bdata": "DASSBNQD1APUA9QDkgTUA9QD1AMzBDMEMwTUAzMEMwTUA9QD1AMzBDMEMwQzBDMEMwQzBNQD1AMzBNQDegPUA9QD1AN0BNQD1AOSBJIEkgTUA9QDdATUA/wD/AMzBJIEkgQzBNQDMwSSBPwDegPUA9QD/AP8A9QD1APUA3QEMwSSBPwD1APUA9QD1APUA9QD1APUA9QD1APUA9QD1APUA9QD1APUA3oD1APUA9QD1APUA9QDFQTUAyYEJgQBBAEE0wQBBNMEAQQVBNMEFQQLBAEEFQQBBBUE0wQBBAEEAQQBBBUEAQQBBAEEAQQVBBUEFQQVBNMEAQQLBAEEFQQBBAAFAQQBBAEEAQQBBAEEAQQBBAEEAQQBBAEEAQQBBAEEAQQBBAEEFQQBBAEEAQQBBAEEAQQVBBUEAQQBBAEEFQQBBBUEAQQVBAEEAQQLBAEEAQQVBAEEAQQBBBUEAQQBBBUEAQQBBAEEAQQBBAEEAQQ=",
          "dtype": "i2"
         },
         "yaxis": "y"
        },
        {
         "marker": {
          "color": "#AB63FA"
         },
         "name": "Hong Kong",
         "showlegend": true,
         "type": "box",
         "xaxis": "x",
         "y": {
          "bdata": "cQBxAG4AbgBuAG4AbgCCAG4AbgBuAG4AbgBuAIIAbgBuAG4AbgBuAG4AggBuAG4AbgBuAHgAbgB4AG4AbgBuAG4AbgBuAG4AbgBuAG4AbgBuAG4AbgBuAG4AbgBuAG4AbgBuAG4AbgBuAG4AbgBuAIIAbgBuAG4AbgB4AG4AbgBuAG4AbgBuAG4AbgBuAG4AbgBuAG4AbgBuAG4AbgBuAG4AbgBuAG4AbgBuAG4AbgBuAG4AbgBuAHYAdgBpAHgAeAB4AGkAbgB4AGkAeAB4AHgAeAB4AHgAeAB4AHgAeAB4AHgAeAB4AHgAeAB4AHgAbgB4AHgAeAB4AHgAeAB4AHgAeAB4AG4AeAB4AHgAeAB4AHgAeAB4AHgAeAB4AHgAeAB4AHgAeAB4AHgAeAB4AHgAeAB4AHgAeAB4AHgAeAB4AHgAeAB4AHgAeAB4AHgAeAB4AHgAeAB4AHgAeAB4AHgAeAB4AHgAeAB4AHgAeAA=",
          "dtype": "i2"
         },
         "yaxis": "y"
        },
        {
         "marker": {
          "color": "#FFA15A"
         },
         "name": "South Korea",
         "showlegend": true,
         "type": "box",
         "xaxis": "x",
         "y": {
          "bdata": "twB6A5YAmwClAJYApQCbAJYAmwCbAKUApQClAJsAmwCWAKUApQClAKUAmwCbAJsAmwCWAJsApQCbAKUAmwCbAKUApQClAKUAmwCbAKUApQClAKUApQClAKUApQClAKUApQClAKUApQClAKUApQClAKUApQClAKUAlgCWAJYAlgCWAJYAlgCWAJYAlgCWAJYAlgCWAKUAlgClAJYAlgCWAJYAlgCWAJYApQCWAJYAlgCWAJYApQClAJoAoACRAJYAoACgAKAAlgCWAJYAlgCgAKAAlgCWAJYApQCgAKAAoACWAJYAlgCWAJYAlgCgAJYAlgCWAKUAoACgAJYAlgCWAKAApQCgAKAAoACWAJYAoAClAKAAoACgAJYAlgCWAKUAoACgAKAAlgCWAJYApQCgAKAAoACgAJYAoAClAKAAoACgAKAAlgCgAKUAoACgAJYAlgCWAKAApQCgAKAAoACgAJYAoAClAKAAoACgAKAAlgA=",
          "dtype": "i2"
         },
         "yaxis": "y"
        },
        {
         "marker": {
          "color": "#19D3F3"
         },
         "name": "Malaysia",
         "showlegend": true,
         "type": "box",
         "xaxis": "x",
         "y": {
          "bdata": "YAHeAywBLAEsASwBLAEsASwBLAEsASwBLAEsASwBLAEsASwB0QHRASwBLAHRASwBLAHRAdEBLAEsASwBLAEsAdEBLAEsASwB0QHRASwB0QEsASwBLAEsASwBLAGzASwBLAEsASwBLAEsAbMBLAEsASwBdgIsASwBswHRASwBLAEsASwBLAHRAcIBLAEsASwBLAEsAdEBwgEsASwBLAEsAVMC0QEsAakBLAHRASwBLAEsAcIBqQEsAbcBJwEnAScBHQEdAScBKQQGBKMCHAIdAScBJwEdAScBJwEcAk4C6gEnAR0BHQEnARwCTgInAcIBowJOAqMCTgIpBE4CwgEcAk4CHAIcAk4CJwEnAScBHQEnAScBuAEnAScBJwEnAScBHAIdAScBJwEnAR0BJwEnAR0BJwEnAScBJwEnAScBHQEnAScBJwEnAScBHQEdAScBJwEnAScBJwEnAR0BJwEnAScBJwEnAR0BHQEnAScBHQE=",
          "dtype": "i2"
         },
         "yaxis": "y"
        },
        {
         "marker": {
          "color": "#FF6692"
         },
         "name": "USA",
         "showlegend": true,
         "type": "box",
         "xaxis": "x",
         "y": {
          "bdata": "hARTBxUEIwWdAxkFnQMZBfwDnQMjBZ0DqwRgBBkFJAS4B50DnQNNA00DTQMPBFEE7AQjBewEAAX8AyMFIwULBAsE/AMLBAsE/AP8A/wD/AMLBAsEwAT8A/wDJQP8AyUDGwMlA/wDGwMlAxsDJQMLBCUDGwM/ByUDwAQZBewEJQMLBAsEJQMLBCUD/AMlAwsEGwMlAxsDJQMBBCUDKgOnAyUDpwMlAxsDJQOnA6cDJQOnAyUDGwMlA6gDqANlBNAC0AJMBEwETARMBNAC0AJMBEwETARMBEwE0AJMBEwE0AJlBNAC0ALQAtAC0ALQAkwEZQTeA94DTARlBEwE3gNMBN4D8wLzAvMCTATeA94D3gPeA2UEZQRMBN4DZQTeA+4CZQRMBEwEZQRlBEwE3gNMBN4DTARMBEwETATeA94DTARlBEwETARMBEwETARMBPMCTATzAkwE8wLzAvMC8wLzAvMCTATzAvMC8wLzAkwE8wI=",
          "dtype": "i2"
         },
         "yaxis": "y"
        },
        {
         "marker": {
          "color": "#B6E880"
         },
         "name": "Japan",
         "showlegend": true,
         "type": "box",
         "xaxis": "x",
         "y": {
          "bdata": "5wDmAOYA5gDmAOYA5gDrAOsA5gDmAOYA5gDmAOYA6wDmAOYA5gDmAOYA5gDrAOYA5gDmAOEA5gDrAOsA5gDmAOYA5gDmAOYA6wDmAOYA5gDhAOYA6wDrAOsA6wDrAOEA5gDmAOsA6wDmAOYA+gDmAOsA6wDrAOsA6wDmAOYA5gDmAOYA5gDmAOsA5gDmAOYA5gDmAOYA5gDrAOYA5gD6AOEA+gD6AOYA5gDmAPoA5gD6APoA+gDmAMoAzQDIAMgAyADIAMgAyADIAMgAyADNAM0AyADNAMgAzQDNAMgAzQDIAMgAzQDNAM0AzQDNAM0AyADNAM0AzQDNAM0AzQDIAMgAyADIAM0AzQDNAMgAzQDNAM0AzQDNAM0AzQDIAM0AzQDNAM0AzQDIAMgAzQDIAM0AyADNAMgAyADIAMgAzQDIAM0AyADIAMgAyADIAM0AyADIAMgAyADNAM0AzQDIAM0AyADIAMgAzQDNAM0AzQA=",
          "dtype": "i2"
         },
         "yaxis": "y"
        },
        {
         "marker": {
          "color": "#FF97FF"
         },
         "name": "Vietnam",
         "showlegend": true,
         "type": "box",
         "xaxis": "x",
         "y": {
          "bdata": "0gDSANIA0gDSANIA0gDSANIA0gDSANIA0gDSANIA0gDSANIA0gDSANIA0gDSANIA0gDSANIA0gDSANIA0gDSANIA0gDSANIA0gDSANIA0gDSANIA0gDSANIA0gDSANIA0gDcANIA0gDSANwA0gDSANwA0gDSANIA3ADSANIA3ADSANIA0gDSANIA0gDcANIA0gDSANIA0gDSANwA0gDSANIA0gDSANIA0gDSANIA0gDSANIA0gDSAM0AzQDNAM0AzQDNAM0AzQDNAM0AzQDNAM0AzQDNAM0AzQDNAM0AzQDNAM0AzQDNAM0AzQDNAM0AzQDNAM0AzQDNAM0AzQDcAM0AzQDNAM0AzQDNANwAzQDNAM0A3ADNAM0A3ADNAM0AzQDcAM0AzQDcAM0AzQDNANwAzQDNANwAzQDNAM0A3ADNAM0A3ADNAM0AzQDcAM0AzQDcAM0AzQDNANwAzQDNANwAzQDNAM0A3ADNAM0A3AA=",
          "dtype": "i2"
         },
         "yaxis": "y"
        },
        {
         "marker": {
          "color": "#FECB52"
         },
         "name": "Australia",
         "showlegend": true,
         "type": "box",
         "xaxis": "x",
         "y": {
          "bdata": "cARwBH4E2ASxA84EzQXNBc0FIwVvBH4EbwRbBM0FbwRvBM0FsQOxA7EDsQOxAyMFsQOxA7EDsQOxA7EDIwX8A6EEsQOxA7EDzQUjBW8EIwV+BH4EzQVvBG8EbwR+BH4EfgRvBG8EfgRvBH4EfgR+BG8EbwR+BG8EfgTXBX4EbwRvBG8EbwR+BG8EfgRvBG8EfgRvBH4E1wV+BG8E/AN+BG8EfgRvBH4EbwRvBH4EbwR+BG8E/ANvBG0E3AWnA8AD2QO6BMADLgTcBacD+wTZA24FpwMuBNkDpwPcBdkDbgWnA30F2QOnA9wF2QNuBcAD+wTZA/sE+wT7BG4F+wQuBG4FpwOnA9kD+wT7BPsE2QP7BPsE+wT7BPsE+wT7BAEE+wTZAwEE+wTtA/sE+wT7BPsEbgUpBC4EAQQpBKcD+wRuBacD7QP7BCkE+wQpBAEEpwPtA9kDKQSnAykEAQQpBO0D2QMpBPsE+wT7BPsE+wQ=",
          "dtype": "i2"
         },
         "yaxis": "y"
        },
        {
         "marker": {
          "color": "#636EFA"
         },
         "name": "Thailand",
         "showlegend": false,
         "type": "box",
         "xaxis": "x2",
         "y": {
          "bdata": "bwvyEssNngyVC5ULgwqeDJULgwqDCoMKgwqDCssNgwqDCoMKlQuDCoMKlQuDCoMKlQuVC4MKgwqDCoMKgwqVC4MKgwqDCoMKgwqDCpULyw2DCoMKgwqDCoMKgwqVC4MKgwqDCpULgwqDCp4MlQuVC4MKhAqECoQKlgvLDZ4Myw3LDcsNyw3LDfIS8hLLDUoP8hLLDZ4MSg9KD8sNSg/LDcsNyw3LDZ4Myw1KD8sNyw3LDUoPngzLDVsLvguQEdYMvgu+C74Lvgu+C5wKnAq+C5wKnAq+C5wKnAqcCpwKnAqcCpwKvgucCpwKnAq+C5wKnAq+C74LFg6+C9YMnAqcChYOnAqcCpwKvgucCtYMFg6+C74L1gzWDNYMvgu+C74Lvgu+C74LvgvWDLAPsA++C74L1gzWDNYMnAqcCtYM1gzWDNYM1gzWDMMSkBGwD9YM1gzWDNYM1gzWDNYM1gzWDNYM1gzWDNYM1gzWDJwK1gw=",
          "dtype": "i2"
         },
         "yaxis": "y2"
        },
        {
         "marker": {
          "color": "#EF553B"
         },
         "name": "Egypt",
         "showlegend": false,
         "type": "box",
         "xaxis": "x2",
         "y": {
          "bdata": "/zf/N/U79TuHRNNFxj7DQrlCY0WPPvIl+yy5Poc32THZMWxFuTe5N2xF+yyrMdkxbEUlLRgmJS3ZMRgmJS0YJhgm2TG5N9kxxj7ZMdkxGCbPMMY+zzDZMfIl8iUbLasxJS2TKdkx2TEYJiUtJS25N+omJS0lLRgm2TElLcY+6iYlLRgmGCYYJhgmmEWTKRgmGCYYJpdFuTfTReomJS0YJhgmGCYYJtkxkykYJhgmGCbZMRgm2TEYJpY7ljtFYdw33DdmN9w3qzycRdw33DfoNdw33DfoNeg1XjnoNdw3qzzoNeg16DXddeg16DXoNdw36DXoNQg5FDcUNxQ3FDeMPBQ3CDkUNxQ3FDcUN6s8FDcIOQg5FDcUNwg5FDeMPAg5CDkUNxQ3CDkUN4w8CDkIOYw8FDcIORQ3jDwIORQ3FDcUN4w8FDeMPAg5FDcUNxQ3CDkUNxQ3CDkUNxQ3FDcUNxQ3FDcIORQ3FDcUNxQ3FDc=",
          "dtype": "i2"
         },
         "yaxis": "y2"
        },
        {
         "marker": {
          "color": "#00CC96"
         },
         "name": "Germany",
         "showlegend": false,
         "type": "box",
         "xaxis": "x2",
         "y": {
          "bdata": "HT6yPAtAC0CyPAtANVULQLI8sjw0OTQ5NDmyPDQ5NDmyPAtAsjw0OTQ5NDk0OTQ5NDk0ObI8NVWeSgtApGqaYppiXlsofV5bNVULQAtAC0CaYth6z3mDbPRf9F8MYAtAC0AMYF5bDGALQPRfpGo1VTVV9F/0XzVVmmKDbA10DGALQEZdNVU1VTRVg2wLQF5bNVULQDVVNVU1VQtANVULQAtAC0ALQMhOC0ALQAtAC0ALQAtAqEcLQJA5kDnLPMs85DQvPeQ0yzzkNOQ05DTkNC895DTLPOQ05DTLPMs8Lz0vPTA+yzzLPMs8yzzkNOQ05DQwPjA+Lz0wPi89MD4vPfY0Lz0vPS89Lz0vPS89Lz0vPS89Lz0vPS89Lz0vPS89Lz0vPS8940EvPS89Lz0vPS89Lz1ITi89PUQpSi89PUQvPYFQLz09RC89Lz1ITi89Lz13U4FQLz0vPYFQLz0vPSlKLz2BUC89Lz0vPS89Lz0=",
          "dtype": "i2"
         },
         "yaxis": "y2"
        },
        {
         "marker": {
          "color": "#AB63FA"
         },
         "name": "Hong Kong",
         "showlegend": false,
         "type": "box",
         "xaxis": "x2",
         "y": {
          "bdata": "cAxwDEAMQAxADEAMQAxADEAMQAxADEAMQAxADEAMQAxADEAMQAxADEAMQAxADEAMQAxADAsOCg5mDc0MQAxADEAMQAxADEAMQAxADEAMQAxADEAMQAxADEAMQAxADEAMQAxADEAMQAxADEAMQAxADEAMQAxADEAMQAxADEAMQAxADEAMQAxADEAMQAxADEAMQAxADEAMQAxADEAMQAxADEAMQAw/DD8M/wxADEAMPwxADEAMQAxADGIJYgnJCSkJKQkpCSkJKQkpCSkJKQkpCckJKQkpCSkJKQkpCSkJKQkpCckJdwspCSkJKQmRCikJKQnJCX8NdwspCSkJyQkpCSkJKQkpCc4FKQnJCSkJKQkpCSkJKQkpCSkJKQkpCSkJKQkpCSkJyQkpCSkJKQkpCSkJKQkpCSkJKQkpCSkJKQkpCSkJKQkpCSkJKQkpCSkJKQkpCSkJKQkpCSkJKQkpCSkJyQkpCSkJKQkpCSkJKQk=",
          "dtype": "i2"
         },
         "yaxis": "y2"
        },
        {
         "marker": {
          "color": "#FFA15A"
         },
         "name": "South Korea",
         "showlegend": false,
         "type": "box",
         "xaxis": "x2",
         "y": {
          "bdata": "Xwo9E0kO+AcsDrwLqQf4B7cK+Af4ByMIIwikCQwMDAy3CiMI5QjpC+kLmQ4HC/gH+AcvCQIKXAkCClwJ+Af4B5AIkAiQCDMLDAwMDJAIkAiQCFIJUgkRCpAIkAgjCCMI5QjGCqMK5QgjCCMI5QgsDukLxgrKCicIMwndCd0JLwkvCS8JLwkvCS8JLwkvCS8JLwkvCcYK3QnlCN0J3QkvCS8JLwkvCS8JXAndCS8JLwkvCS8JpAmkCTERBA5LFEcNiBHUFRgf8xojEyMTkxEjF9QVAxCTERsMSAtIC4gRfBMDEAMQRw0bDKsN1w6IEWcQBA6rDXQMdAwEDpwY1w50DIAKHApIC0gLSAtTC4AKHAocChwKHAqACu8KHArDCRwKHAocChwKGwwcCsMJHAocChwKSAt0DHQMSAuACoAKgApIC4AKgAqAChwKgApICxsMGwyIEUgLgAqACoAKSAuACoAKHAocChwKgAocChwKgAo=",
          "dtype": "i2"
         },
         "yaxis": "y2"
        },
        {
         "marker": {
          "color": "#19D3F3"
         },
         "name": "Malaysia",
         "showlegend": false,
         "type": "box",
         "xaxis": "x2",
         "y": {
          "bdata": "hAkdEQgNCA0YDwURSAqJB5kJiAeZCZkJmQmJB4kHiAeJB0gKqQf/B4kHmQn/B4kHmQn/B/8HiAeJB4kHiQeJB6kHmQkIDZkJqQcCCAgNqQdICpkJiQe8CYkHSAqpB4kHmQmJB5kJjAecCawHjAeMB5wJqQmMB4wHrAf/B4kHmQmJB4kHSAr/B/8HiQeZCYkHiQeZCQII/weJB4kHiQeIB/8HqQeJB/8HmQn/B4kHmQnlDP8H/wflDOgPnwvjCJ8Llg/uEesPpAukC6QLpAs6FusPQxKWD+sPnwukC8QOMxXzFjoW7hHrDzQPxA7zFgwU6hAQETQPAg3EDsQOpAukCwINpAv6C6QLnwufC58Llg+fC+MI+gufC58L4wi3B7cH+guuC58LnwufC94ItwfjCK4LnwufC58L4wjjCOMIlg+fC58L6w/jCOMI3gjeCOMInwufC58L4wi3B64L4wjjCJ8L4wi3B94Irgu3B+MI3gg=",
          "dtype": "i2"
         },
         "yaxis": "y2"
        },
        {
         "marker": {
          "color": "#FF6692"
         },
         "name": "USA",
         "showlegend": false,
         "type": "box",
         "xaxis": "x2",
         "y": {
          "bdata": "R0B2OTM4MziaOUo+Tj5PPjY4mjk2OJ45N0c3R59Imj16OeJAmj0WW25dbl2eOeY85z82OFg95j9dPzY4NjgcQ+pDXD9OPk8+Njg2ODY4NjhPPk4+2DQ2ODY43jQ2OL04HES9ODY4PUDfND5AvThOPr04PkCFMd80KDDhMWwymC+ZLpkuuiuZLpgv4jGYL5kudTW6K3U1mC/iMZgvSTSZLrormS6YL1M5mC+ZLpkuuiuZLpgvUzmYL8JDwkPINyI+Ij7IN8g3yDfINyI+Ij7IN8g3yDfIN8g3Ij7IN8g3fVRBSH1UfVR9VH1UfVR9VH5UflR+VH5UflR+VH5UflR+VH5UfVR9VH1UflR+VH5UflR+VH5UflR+VHdUd1R3VPJid1R3VHdUd1R3VHdUd1R3VHdUflR+VH5UflR+VH5UflR+VH5UflR+VH5UflR+VDlaflR9VH5UfVR9VH1UfVQ5Wn1UvEMiPiI+Ij5kQ7xDIj4=",
          "dtype": "i2"
         },
         "yaxis": "y2"
        },
        {
         "marker": {
          "color": "#B6E880"
         },
         "name": "Japan",
         "showlegend": false,
         "type": "box",
         "xaxis": "x2",
         "y": {
          "bdata": "ZwvJEPgLLQrpCukKLQr4C1YOLQotCi0K6QotCvgLHQ0tCi0KLQrpCi0K+AvpCi0KLAosCicLHA1VDhwNLQotCi0KLQotCukK+AstCi0KLQr4Cx0N+AstCi0K6QotCkwQ+AuQD1YO6Qr4C+gKMQ1VDsgQjw/4CxwNHA1WDpAPkA8dDR0NVg4dDZATkBPEFZAP+AsdDR0NHQ0dDZAPHQ34C/gLJwv4C1YOVg4cDTENHA34C/gLMQ1VDjwQexXbCwcN2wvDDzMOUxHrEzMOaA6yD2gOMw7rE/cRsg+yDzMOsg8SFPcXexUPDrIPfwwPDr8Ssg8GEWgOsg8PDg8Osg88DbIPEAwHDX8MfwwPDjwNEAzkChAMUwtTC38MfwyyDw8ODw5/DH8Mfww8DRAMUwvkClMLBw0PDhAM5ArkChAMUwsQDFMLEAwQDBAM5ApoDhIU0xduEjwNPA1oDg8OPA3DD7IPPA0QDAcNUwtTCzwNDw4=",
          "dtype": "i2"
         },
         "yaxis": "y2"
        },
        {
         "marker": {
          "color": "#FF97FF"
         },
         "name": "Vietnam",
         "showlegend": false,
         "type": "box",
         "xaxis": "x2",
         "y": {
          "bdata": "MAhUEdQH1AfUB9QH1AfUB9QH1AfUB9QH1AfUB9QH1AfUB9QH1AfUB9QH1AfUB9QH1AfUB9QH1AfUB7oI1AfUB9QH1AfUB9QH1AfUB9QH1AfUB9QHugjUB9QH1AfUB9QH1AfUB9QH1AfUB9QH1AfUB9QH1AfUB9QH1AfUB9QH1AfUB9QH1AfUB9MH1AfUB9QH1AfUB9QH1AfUB9QH1AfUB9QH1AfUB9QH1AfUB9QH1AfUB9QHugjUB6oHaQdpB2kHaQdpB2kHaQdpB2kHaQdpB2kHaQdpB2kHaQdpB2kHVghpB1YIVghWCGkHaQdWCFYIVghWCCYOVghWCFYIaQdWCGkHaQdWCGkHaQdpB2kHaQdpB2kHaQdpB2kHaQdpB2kHaQdpB2kHaQdpB2kHaQdpB2kHaQdpB2kHaQdpB2kHaQdpB2kHaQdpB2kHaQdpB2kHaQdpB2kHaQdpB2kHaQdpB2kHaQdpB2kHaQdpB2kHaQc=",
          "dtype": "i2"
         },
         "yaxis": "y2"
        },
        {
         "marker": {
          "color": "#FECB52"
         },
         "name": "Australia",
         "showlegend": false,
         "type": "box",
         "xaxis": "x2",
         "y": {
          "bdata": "miGaIa0XqSNHKqkjUCFPIU8hChyYFnwkmBbwGE8hFR4VHk8hfiTDJsMmfiTDJo0mfiQ6IjoifiR+JH4kdSKeJnUiwyZpLEMlTyG/GiYevxopFikWTyGpFqkWqRYpFikWKRapFqkWKRapFikWKRYpFqkWqRYpFqkWKRaqFioWHByqFqoWqhYpFqkWKRapFqkWKRapFikWqRYpFgEZqRYpFqkWKRapFikWGxypFikWqRYpFqkWqRapFq8c7x7vHvMc/SKnHfMc/SLPG9sZ/iHvHvMc2xnbGdsZ2xnbGdsZ8xzvHvMc2xnbGdsZ2xnzHPMcpRzvHnkbTRpZGPMcNiHsGfMc7BnsGQAfFyT9J08j6CI8LRckECwMQQU7PC1DJeooFyQOI+ooFyQOI00aIRkhGf4h8xxWGOwZ7BlWGOwZVR7zHOAb7BlZGFYYkRdWGOwZ7BnsGewZVhjsGVYY7BlWGOwZ7BlWGFkYkRdZGFkYIRk=",
          "dtype": "i2"
         },
         "yaxis": "y2"
        },
        {
         "marker": {
          "color": "#636EFA"
         },
         "name": "Thailand",
         "showlegend": false,
         "type": "box",
         "xaxis": "x3",
         "y": {
          "bdata": "0gDVANAA0ADfANAA0ADfANAA0ADQANAA0ADQAN8A0ADQANAA0ADQANAA0ADQANAA0ADQANAA0ADQANAA0ADQANAA0ADQANAA0ADQANAA0ADQANAA0ADQANAA0ADQANAA0ADQANAA0ADQANAA0ADQANAA0ADQANAA0ADQANAA0ADQANAA0ADQAMkAyQDQANAAyQDQAN8A0ADQANAA0ADQANAA0ADQANAA0ADQANAA0ADQANAA0ADQANoA3QDdAN0A3QDdAN0A3QDdAM4AzgDdAN0AzgDdAN0A3QDdAN0AzgDOAN0A3QDdAN0A3QDdAM4A3QDdAM4A3QDOAM4AzgDdAN0AzgDOAM4AzgDdAM4AzgDdAN0A3QDdAN0A3QDdAN0A3QDOAN0A3QDOAM4A3QDOAM4A3QDdAM4AzgDdAN0AzgDOAM4AzgDOAPgAzgDdAM4A3QDOAM4A3QDOAM4AzgDdAM4AzgDdAM4AzgDOAM4AzgA=",
          "dtype": "i2"
         },
         "yaxis": "y3"
        },
        {
         "marker": {
          "color": "#EF553B"
         },
         "name": "Egypt",
         "showlegend": false,
         "type": "box",
         "xaxis": "x3",
         "y": {
          "bdata": "rwKvAvEC+QKxAq4ClQKuArACoQKvAq8CrgKvAq4CrwKuAqECrgKuAqECkwKuAq4CoQKuAq4CrgKuAp8CiAKIAogClgKWApYClgKIAogCiAKhAogCoQKWAogClgKIApYCiAIFA5YClgKIApYClgKWAgUDlgKIAogClgKZApkCCQOZApkCmQKZApkCmQIJA5kCjAKZApkCmQKZAgkDmQKMApkCmQKZApkCCQOZApkCmQKZApkCmQKmArACsAKyArICsgLIArACsgInA7AClgKwArACsAKwArAC5gKwArAClgKWApYClgL/ApYClgKWArAClgKMApgCiwKLAosCiwKYAosCmAKLAosCiwKLAosCiwKYApgCiwKLApgCiwKLApgCmAKLAosCmAKLAosCmAKYAo4CjgKcAo4CjgKcAo4CjgKOAo4CjgKOApwCjgKOAo4CnAKOAo4CnAKOAo4CjgKOAo4CjgKcAo4CjgKOAo4CjgI=",
          "dtype": "i2"
         },
         "yaxis": "y3"
        },
        {
         "marker": {
          "color": "#00CC96"
         },
         "name": "Germany",
         "showlegend": false,
         "type": "box",
         "xaxis": "x3",
         "y": {
          "bdata": "gwMBBPMD8wPzA/MDAQTzA/MD8wP5AvkC+QLzA/kC+QLzA/MD8wP5AvkC+QL5AvkC+QL5AvMD8wP5AucDyALDA8MDwwM+A8MDwwPQA9AD0APDA8MDPgPDA/cCHAPgAtAD0APgAsMD4ALQA/cCyALDA8MD9wL3AsMDwAO6Az4D5ALIA/QCugO6A7oDugO6A7oDugO6A7oDugO6A7oDugO6A7oDugO6A9kCugO6A7oDugO6A7oDsQK6A3YDdgP8A/wD+wL8A/oC/AP7AvoC+wL6AvwD+wL8A/sC+gL8A/wD/AP8A+AC/AP8A/wD/APgAuAC4ALVAuECywPTAssD0wLLA6QCywPLA8sDywPLA8sDywPLA8sDywPLA8sDywPLA8sDywPLA8sDyQLLA8sDywPLA8sDwwPXApIDwwPDA8MDkgPDA5IDwwOSA8MDwwPXAsMDwwPaAsMDwwPDA5IDwwPDA5IDwwPDA8MDwwPDA8MDwwM=",
          "dtype": "i2"
         },
         "yaxis": "y3"
        },
        {
         "marker": {
          "color": "#AB63FA"
         },
         "name": "Hong Kong",
         "showlegend": false,
         "type": "box",
         "xaxis": "x3",
         "y": {
          "bdata": "WVlaWVlZWVlZWllZWVlZWVlZWVlZWVlZWVlaWV1eWVlZWVlZWVlZWVlZWVlZWVlZWVlZWVlZWVlZWVlZWVpZWVlZWVlZWVlZWVlZWVlZWVlZWVlZWVlZWVlZWVlYWFdZV1dXV1dXWVdXV1dZWVlXV1dXWVlZV1dXV1lZWVdXWVdZWVdXWVlXWVlZWVdXV1lZWVdXWVdXWVlZV1dXWVlZWVlXV1lZWVdZV1dZWVlZV1dXWVlZV1dZVw==",
          "dtype": "i1"
         },
         "yaxis": "y3"
        },
        {
         "marker": {
          "color": "#FFA15A"
         },
         "name": "South Korea",
         "showlegend": false,
         "type": "box",
         "xaxis": "x3",
         "y": {
          "bdata": "ggC/AGgAhQCFAGgAiwCFAGgAhACEAIUAhQCFAIQAhABoAIUAhQCFAIUAhQCFAIUAhQBoAIUAiwCFAIsAhQCFAIEAgQCBAIEAhQCFAIEAgQCBAIEAgQCBAIEAgQCBAIEAgQCBAIsAgQCBAIEAgQCBAIEAgQCBAIEAZgBmAGYAZgBmAGYAZgBmAGYAZgBmAGYAZgBmAIMAZgCDAGYAZgBmAGYAZgBmAGYAiwBmAGYAZgBmAGYAgwCDAHoAZwCLAIQAZwBnAH0AhACEAIQAhAB9AGcAhACEAIQAZwBnAGcAZwCEAIQAhACEAIQAhABnAIQAZwCEAGUAZQBlAHcAgABlAGUAZQBlAGUAZQCAAGUAZQBlAGUAZQBlAIAAZQCAAGUAZQBlAGUAgABlAIAAZQBlAGUAZQBlAGUAZQBlAGUAZQBlAGUAZQBlAGUAZQBlAIIAggBlAGUAZQBlAGUAZQBlAGUAZQBlAGUAZQBlAGUAZQA=",
          "dtype": "i2"
         },
         "yaxis": "y3"
        },
        {
         "marker": {
          "color": "#19D3F3"
         },
         "name": "Malaysia",
         "showlegend": false,
         "type": "box",
         "xaxis": "x3",
         "y": {
          "bdata": "5wAHAecA5wDUAOcA5wDnANQA5wDUANQA1ADnAOcA5wDnAOcA+wD7AOcA1AD7AOcA1AD7APsA5wDnAOcA5wDnAPYA1ADnANQA9gD2AOcA9gDnANQA5wDnAOcA5wD0AOcA1ADnANQA5wDUAPQA5wDnANQA8ADnAOcA8AD2AOcA1ADnAOcA5wD2APAA5wDUAOcA5wDUAPYA8ADnAOcA5wDnAPYA9gDnAPYA1AD2AOcA1ADUAPAA9gDUAOkA5gDmAOYA0wDTAOYAAQHuAP8A8gDTAOYA5gDTAOYA5gDyAO4ABwHmANMA0wDmAPIA7gDmAPQA+wDuAPYA6QD8AO0A/ADjAO0A4wDpAOMA5gDmAOYA0wDmAOYA7gDmAOYA5gDmAOYA6QDTAOYA5gDmANMA5gDmANMA5gDmAOYA5gDmAOYA0wDmAOYA5gDmAOYA0wDTAOYA5gDmAOYA5gDmANMA5gDmAOYA5gDmANMA0wDmAOYA0wA=",
          "dtype": "i2"
         },
         "yaxis": "y3"
        },
        {
         "marker": {
          "color": "#FF6692"
         },
         "name": "USA",
         "showlegend": false,
         "type": "box",
         "xaxis": "x3",
         "y": {
          "bdata": "ywKtApoCrQK0ArsCtALBApoCtAK2ArQC5wLxAsEC6wK2ArQCtAKlAqUCpQK3AvECZQO2AmIDaQOaArYCuQIJAwkDnQIJAwkDnQKdAp0CnQIJAwkDDwOdAp0CdAKdAnQCvgJ0Ap0CvgJ0Ar4CdAIJA3QCvgKeAnQCPAP9ApkDswI+Az4DswI+A7MCrQKzAj4DBQOzAgUDswKtArMCpwJZA7MCWQOzAgUDswJZA1kDswJZA7MCBQOzApICkgLvAisCKwLXAuIC1gLWAisCKwLWAtYC4gLXAtYCKwLWAtYCKwIjAysCKwIrAisCKwIrAuIC4wLJAsYCvQLUAroCxgK9AsoCFAIUAhQCugLGAsYCygLGAtQC1AK6AsYCygLKAi4C1QLIAroC0gLUAroCxgK9AtACwgLFAsUCzgLPAs8C0ALdAsUCxQLFAs4CxQLQAi0CxQItAs4CLQItAi0CLQItAi0CzgItAi0CLQItAsUCLQI=",
          "dtype": "i2"
         },
         "yaxis": "y3"
        },
        {
         "marker": {
          "color": "#B6E880"
         },
         "name": "Japan",
         "showlegend": false,
         "type": "box",
         "xaxis": "x3",
         "y": {
          "bdata": "lgCMALUAjACMAIwAjAC1AIwAtQCMAIwAjACMAIwAjAC1AIwAjACMAIwAjAC1ALUAjACMAIoAjAC1AIwAtQCMAIwAjACMAIwAtQC1AIwAjACHAIwAtQC1AIwAjACMAIcAjACMALUAtQCMAIwAhwCMALUAtQCMALUAtQCMAIwAjACMALUAjACMALUAjACMAIwAjACMAIwAjAC1AIwAjACIAIgAiACIAIwAjACMAIgAjACIAIgAiACMAKQAjQC1ALUAtQC1ALUAtQC3ALUAuQCOALkAtQC3ALcAjgCOALUAuQCOALUAjQCNAI4AjQCNAI0AjgCOALkAjgCKAIoAuQCOAI4AjgC1AIoAigCKAI4AuQCOAI4AigCKAIoAigCOAIoAigCKAIoAigCOAI4AigCOAIoAtQCKAI4AjgCOALkAigCOAIoAjgCOAI4AjgCOALkAtACOAI4AjgC5AIoAuQC1ALkAjgCOALUAigCKALkAigA=",
          "dtype": "i2"
         },
         "yaxis": "y3"
        },
        {
         "marker": {
          "color": "#FF97FF"
         },
         "name": "Vietnam",
         "showlegend": false,
         "type": "box",
         "xaxis": "x3",
         "y": {
          "bdata": "tgCxALkAuQC1ALUAuQC1ALUAtQC1ALkAuQC1ALUAtQC1ALUAtQC5ALUAtQC1ALUAtQC1ALUAtQC1ALUAtQC1ALUAtQC1ALUAtQC1ALUAtQC1ALUAtQC1ALkAtQC1ALUAtQC5ALkAtQC5ALkAtQC5ALkAuQC5ALkAuQC1ALkAuQC1ALkAtQC1ALUAtQC5ALkAuQC1ALUAuQC1ALkAtQC1ALkAtQC1ALUAtQC5ALUAtQC1ALUAtQC1ALoAtwC7ALsAuwC7ALsAuwC7ALsAuwC7ALsAuwC7ALsAuwC7ALsAtwC3ALsAuwC3ALsAtwC7ALsAuwC7ALcAtwC3ALcAtwC7ALsAuwC7ALcAtwC3ALsAuwC7ALsAuwC7ALsAuwC7ALsAuwC7ALsAuwC7ALsAuwC7ALsAuwC7ALsAuwC7ALsAuwC7ALsAuwC7ALsAuwC7ALsAuwC7ALsAuwC7ALsAuwC7ALsAuwC7ALsAuwC7ALsAuwA=",
          "dtype": "i2"
         },
         "yaxis": "y3"
        },
        {
         "marker": {
          "color": "#FECB52"
         },
         "name": "Australia",
         "showlegend": false,
         "type": "box",
         "xaxis": "x3",
         "y": {
          "bdata": "2AHYATYCOwKIATsCJALmASQCEQIRAjYCEQIRAuYBEQIRAuYBiAGEAYgBiAGEARECiAGIAYQBiAGIAYQBBgITAgYChAGIAYgB5gEGAgYCBgI2AjYC5gEGAgYCBgI2AjYCNgIGAgYCNgIGAjYCNgI2AgYCBgI2AgYCNgIUAjYCBwIHAgcCBwI2AgcCNgIHAgcCNgIHAjYCFAI2AgcCFAI2AgcCNgIHAjYCBwIHAjYCBwI2AgcCFAIIAhUCDgIOAl4CDgIjAl4CGwIOAg4CiAEOAj8CDgIbAg4CDgIOAg4CPwIOAj8CDgIOAg4CDgI/Al4CiAEOAogBiAGIAT8CiAERAj8CBAIEAgQCiAGIAYgBBAKIAYgBiAGIAYgBiAGIAQQCiAEEAgQCiAEEAogBiAGIAYgBPwI4AhECBAI4AhoCiAE/AgQCBAKIATgCiAE4AgQCBAIEAgQCOAIaAjgCBAI4AgQCBAI4AogBiAGIAYgBiAE=",
          "dtype": "i2"
         },
         "yaxis": "y3"
        }
       ],
       "layout": {
        "annotations": [
         {
          "font": {
           "size": 16
          },
          "showarrow": false,
          "text": "Flight Duration by Country (minutes)",
          "x": 0.5,
          "xanchor": "center",
          "xref": "paper",
          "y": 1,
          "yanchor": "bottom",
          "yref": "paper"
         },
         {
          "font": {
           "size": 16
          },
          "showarrow": false,
          "text": "Price by Country (USD)",
          "x": 0.5,
          "xanchor": "center",
          "xref": "paper",
          "y": 0.6333333333333333,
          "yanchor": "bottom",
          "yref": "paper"
         },
         {
          "font": {
           "size": 16
          },
          "showarrow": false,
          "text": "CO₂ Emissions by Country (kg)",
          "x": 0.5,
          "xanchor": "center",
          "xref": "paper",
          "y": 0.26666666666666666,
          "yanchor": "bottom",
          "yref": "paper"
         }
        ],
        "height": 900,
        "margin": {
         "b": 100,
         "t": 100
        },
        "template": {
         "data": {
          "bar": [
           {
            "error_x": {
             "color": "#2a3f5f"
            },
            "error_y": {
             "color": "#2a3f5f"
            },
            "marker": {
             "line": {
              "color": "white",
              "width": 0.5
             },
             "pattern": {
              "fillmode": "overlay",
              "size": 10,
              "solidity": 0.2
             }
            },
            "type": "bar"
           }
          ],
          "barpolar": [
           {
            "marker": {
             "line": {
              "color": "white",
              "width": 0.5
             },
             "pattern": {
              "fillmode": "overlay",
              "size": 10,
              "solidity": 0.2
             }
            },
            "type": "barpolar"
           }
          ],
          "carpet": [
           {
            "aaxis": {
             "endlinecolor": "#2a3f5f",
             "gridcolor": "#C8D4E3",
             "linecolor": "#C8D4E3",
             "minorgridcolor": "#C8D4E3",
             "startlinecolor": "#2a3f5f"
            },
            "baxis": {
             "endlinecolor": "#2a3f5f",
             "gridcolor": "#C8D4E3",
             "linecolor": "#C8D4E3",
             "minorgridcolor": "#C8D4E3",
             "startlinecolor": "#2a3f5f"
            },
            "type": "carpet"
           }
          ],
          "choropleth": [
           {
            "colorbar": {
             "outlinewidth": 0,
             "ticks": ""
            },
            "type": "choropleth"
           }
          ],
          "contour": [
           {
            "colorbar": {
             "outlinewidth": 0,
             "ticks": ""
            },
            "colorscale": [
             [
              0,
              "#0d0887"
             ],
             [
              0.1111111111111111,
              "#46039f"
             ],
             [
              0.2222222222222222,
              "#7201a8"
             ],
             [
              0.3333333333333333,
              "#9c179e"
             ],
             [
              0.4444444444444444,
              "#bd3786"
             ],
             [
              0.5555555555555556,
              "#d8576b"
             ],
             [
              0.6666666666666666,
              "#ed7953"
             ],
             [
              0.7777777777777778,
              "#fb9f3a"
             ],
             [
              0.8888888888888888,
              "#fdca26"
             ],
             [
              1,
              "#f0f921"
             ]
            ],
            "type": "contour"
           }
          ],
          "contourcarpet": [
           {
            "colorbar": {
             "outlinewidth": 0,
             "ticks": ""
            },
            "type": "contourcarpet"
           }
          ],
          "heatmap": [
           {
            "colorbar": {
             "outlinewidth": 0,
             "ticks": ""
            },
            "colorscale": [
             [
              0,
              "#0d0887"
             ],
             [
              0.1111111111111111,
              "#46039f"
             ],
             [
              0.2222222222222222,
              "#7201a8"
             ],
             [
              0.3333333333333333,
              "#9c179e"
             ],
             [
              0.4444444444444444,
              "#bd3786"
             ],
             [
              0.5555555555555556,
              "#d8576b"
             ],
             [
              0.6666666666666666,
              "#ed7953"
             ],
             [
              0.7777777777777778,
              "#fb9f3a"
             ],
             [
              0.8888888888888888,
              "#fdca26"
             ],
             [
              1,
              "#f0f921"
             ]
            ],
            "type": "heatmap"
           }
          ],
          "histogram": [
           {
            "marker": {
             "pattern": {
              "fillmode": "overlay",
              "size": 10,
              "solidity": 0.2
             }
            },
            "type": "histogram"
           }
          ],
          "histogram2d": [
           {
            "colorbar": {
             "outlinewidth": 0,
             "ticks": ""
            },
            "colorscale": [
             [
              0,
              "#0d0887"
             ],
             [
              0.1111111111111111,
              "#46039f"
             ],
             [
              0.2222222222222222,
              "#7201a8"
             ],
             [
              0.3333333333333333,
              "#9c179e"
             ],
             [
              0.4444444444444444,
              "#bd3786"
             ],
             [
              0.5555555555555556,
              "#d8576b"
             ],
             [
              0.6666666666666666,
              "#ed7953"
             ],
             [
              0.7777777777777778,
              "#fb9f3a"
             ],
             [
              0.8888888888888888,
              "#fdca26"
             ],
             [
              1,
              "#f0f921"
             ]
            ],
            "type": "histogram2d"
           }
          ],
          "histogram2dcontour": [
           {
            "colorbar": {
             "outlinewidth": 0,
             "ticks": ""
            },
            "colorscale": [
             [
              0,
              "#0d0887"
             ],
             [
              0.1111111111111111,
              "#46039f"
             ],
             [
              0.2222222222222222,
              "#7201a8"
             ],
             [
              0.3333333333333333,
              "#9c179e"
             ],
             [
              0.4444444444444444,
              "#bd3786"
             ],
             [
              0.5555555555555556,
              "#d8576b"
             ],
             [
              0.6666666666666666,
              "#ed7953"
             ],
             [
              0.7777777777777778,
              "#fb9f3a"
             ],
             [
              0.8888888888888888,
              "#fdca26"
             ],
             [
              1,
              "#f0f921"
             ]
            ],
            "type": "histogram2dcontour"
           }
          ],
          "mesh3d": [
           {
            "colorbar": {
             "outlinewidth": 0,
             "ticks": ""
            },
            "type": "mesh3d"
           }
          ],
          "parcoords": [
           {
            "line": {
             "colorbar": {
              "outlinewidth": 0,
              "ticks": ""
             }
            },
            "type": "parcoords"
           }
          ],
          "pie": [
           {
            "automargin": true,
            "type": "pie"
           }
          ],
          "scatter": [
           {
            "fillpattern": {
             "fillmode": "overlay",
             "size": 10,
             "solidity": 0.2
            },
            "type": "scatter"
           }
          ],
          "scatter3d": [
           {
            "line": {
             "colorbar": {
              "outlinewidth": 0,
              "ticks": ""
             }
            },
            "marker": {
             "colorbar": {
              "outlinewidth": 0,
              "ticks": ""
             }
            },
            "type": "scatter3d"
           }
          ],
          "scattercarpet": [
           {
            "marker": {
             "colorbar": {
              "outlinewidth": 0,
              "ticks": ""
             }
            },
            "type": "scattercarpet"
           }
          ],
          "scattergeo": [
           {
            "marker": {
             "colorbar": {
              "outlinewidth": 0,
              "ticks": ""
             }
            },
            "type": "scattergeo"
           }
          ],
          "scattergl": [
           {
            "marker": {
             "colorbar": {
              "outlinewidth": 0,
              "ticks": ""
             }
            },
            "type": "scattergl"
           }
          ],
          "scattermap": [
           {
            "marker": {
             "colorbar": {
              "outlinewidth": 0,
              "ticks": ""
             }
            },
            "type": "scattermap"
           }
          ],
          "scattermapbox": [
           {
            "marker": {
             "colorbar": {
              "outlinewidth": 0,
              "ticks": ""
             }
            },
            "type": "scattermapbox"
           }
          ],
          "scatterpolar": [
           {
            "marker": {
             "colorbar": {
              "outlinewidth": 0,
              "ticks": ""
             }
            },
            "type": "scatterpolar"
           }
          ],
          "scatterpolargl": [
           {
            "marker": {
             "colorbar": {
              "outlinewidth": 0,
              "ticks": ""
             }
            },
            "type": "scatterpolargl"
           }
          ],
          "scatterternary": [
           {
            "marker": {
             "colorbar": {
              "outlinewidth": 0,
              "ticks": ""
             }
            },
            "type": "scatterternary"
           }
          ],
          "surface": [
           {
            "colorbar": {
             "outlinewidth": 0,
             "ticks": ""
            },
            "colorscale": [
             [
              0,
              "#0d0887"
             ],
             [
              0.1111111111111111,
              "#46039f"
             ],
             [
              0.2222222222222222,
              "#7201a8"
             ],
             [
              0.3333333333333333,
              "#9c179e"
             ],
             [
              0.4444444444444444,
              "#bd3786"
             ],
             [
              0.5555555555555556,
              "#d8576b"
             ],
             [
              0.6666666666666666,
              "#ed7953"
             ],
             [
              0.7777777777777778,
              "#fb9f3a"
             ],
             [
              0.8888888888888888,
              "#fdca26"
             ],
             [
              1,
              "#f0f921"
             ]
            ],
            "type": "surface"
           }
          ],
          "table": [
           {
            "cells": {
             "fill": {
              "color": "#EBF0F8"
             },
             "line": {
              "color": "white"
             }
            },
            "header": {
             "fill": {
              "color": "#C8D4E3"
             },
             "line": {
              "color": "white"
             }
            },
            "type": "table"
           }
          ]
         },
         "layout": {
          "annotationdefaults": {
           "arrowcolor": "#2a3f5f",
           "arrowhead": 0,
           "arrowwidth": 1
          },
          "autotypenumbers": "strict",
          "coloraxis": {
           "colorbar": {
            "outlinewidth": 0,
            "ticks": ""
           }
          },
          "colorscale": {
           "diverging": [
            [
             0,
             "#8e0152"
            ],
            [
             0.1,
             "#c51b7d"
            ],
            [
             0.2,
             "#de77ae"
            ],
            [
             0.3,
             "#f1b6da"
            ],
            [
             0.4,
             "#fde0ef"
            ],
            [
             0.5,
             "#f7f7f7"
            ],
            [
             0.6,
             "#e6f5d0"
            ],
            [
             0.7,
             "#b8e186"
            ],
            [
             0.8,
             "#7fbc41"
            ],
            [
             0.9,
             "#4d9221"
            ],
            [
             1,
             "#276419"
            ]
           ],
           "sequential": [
            [
             0,
             "#0d0887"
            ],
            [
             0.1111111111111111,
             "#46039f"
            ],
            [
             0.2222222222222222,
             "#7201a8"
            ],
            [
             0.3333333333333333,
             "#9c179e"
            ],
            [
             0.4444444444444444,
             "#bd3786"
            ],
            [
             0.5555555555555556,
             "#d8576b"
            ],
            [
             0.6666666666666666,
             "#ed7953"
            ],
            [
             0.7777777777777778,
             "#fb9f3a"
            ],
            [
             0.8888888888888888,
             "#fdca26"
            ],
            [
             1,
             "#f0f921"
            ]
           ],
           "sequentialminus": [
            [
             0,
             "#0d0887"
            ],
            [
             0.1111111111111111,
             "#46039f"
            ],
            [
             0.2222222222222222,
             "#7201a8"
            ],
            [
             0.3333333333333333,
             "#9c179e"
            ],
            [
             0.4444444444444444,
             "#bd3786"
            ],
            [
             0.5555555555555556,
             "#d8576b"
            ],
            [
             0.6666666666666666,
             "#ed7953"
            ],
            [
             0.7777777777777778,
             "#fb9f3a"
            ],
            [
             0.8888888888888888,
             "#fdca26"
            ],
            [
             1,
             "#f0f921"
            ]
           ]
          },
          "colorway": [
           "#636efa",
           "#EF553B",
           "#00cc96",
           "#ab63fa",
           "#FFA15A",
           "#19d3f3",
           "#FF6692",
           "#B6E880",
           "#FF97FF",
           "#FECB52"
          ],
          "font": {
           "color": "#2a3f5f"
          },
          "geo": {
           "bgcolor": "white",
           "lakecolor": "white",
           "landcolor": "white",
           "showlakes": true,
           "showland": true,
           "subunitcolor": "#C8D4E3"
          },
          "hoverlabel": {
           "align": "left"
          },
          "hovermode": "closest",
          "mapbox": {
           "style": "light"
          },
          "paper_bgcolor": "white",
          "plot_bgcolor": "white",
          "polar": {
           "angularaxis": {
            "gridcolor": "#EBF0F8",
            "linecolor": "#EBF0F8",
            "ticks": ""
           },
           "bgcolor": "white",
           "radialaxis": {
            "gridcolor": "#EBF0F8",
            "linecolor": "#EBF0F8",
            "ticks": ""
           }
          },
          "scene": {
           "xaxis": {
            "backgroundcolor": "white",
            "gridcolor": "#DFE8F3",
            "gridwidth": 2,
            "linecolor": "#EBF0F8",
            "showbackground": true,
            "ticks": "",
            "zerolinecolor": "#EBF0F8"
           },
           "yaxis": {
            "backgroundcolor": "white",
            "gridcolor": "#DFE8F3",
            "gridwidth": 2,
            "linecolor": "#EBF0F8",
            "showbackground": true,
            "ticks": "",
            "zerolinecolor": "#EBF0F8"
           },
           "zaxis": {
            "backgroundcolor": "white",
            "gridcolor": "#DFE8F3",
            "gridwidth": 2,
            "linecolor": "#EBF0F8",
            "showbackground": true,
            "ticks": "",
            "zerolinecolor": "#EBF0F8"
           }
          },
          "shapedefaults": {
           "line": {
            "color": "#2a3f5f"
           }
          },
          "ternary": {
           "aaxis": {
            "gridcolor": "#DFE8F3",
            "linecolor": "#A2B1C6",
            "ticks": ""
           },
           "baxis": {
            "gridcolor": "#DFE8F3",
            "linecolor": "#A2B1C6",
            "ticks": ""
           },
           "bgcolor": "white",
           "caxis": {
            "gridcolor": "#DFE8F3",
            "linecolor": "#A2B1C6",
            "ticks": ""
           }
          },
          "title": {
           "x": 0.05
          },
          "xaxis": {
           "automargin": true,
           "gridcolor": "#EBF0F8",
           "linecolor": "#EBF0F8",
           "ticks": "",
           "title": {
            "standoff": 15
           },
           "zerolinecolor": "#EBF0F8",
           "zerolinewidth": 2
          },
          "yaxis": {
           "automargin": true,
           "gridcolor": "#EBF0F8",
           "linecolor": "#EBF0F8",
           "ticks": "",
           "title": {
            "standoff": 15
           },
           "zerolinecolor": "#EBF0F8",
           "zerolinewidth": 2
          }
         }
        },
        "title": {
         "text": "<b>Core Metrics Distribution by Country</b>",
         "x": 0.5
        },
        "xaxis": {
         "anchor": "y",
         "domain": [
          0,
          1
         ]
        },
        "xaxis2": {
         "anchor": "y2",
         "domain": [
          0,
          1
         ]
        },
        "xaxis3": {
         "anchor": "y3",
         "domain": [
          0,
          1
         ]
        },
        "yaxis": {
         "anchor": "x",
         "domain": [
          0.7333333333333334,
          1
         ]
        },
        "yaxis2": {
         "anchor": "x2",
         "domain": [
          0.3666666666666667,
          0.6333333333333333
         ]
        },
        "yaxis3": {
         "anchor": "x3",
         "domain": [
          0,
          0.26666666666666666
         ]
        }
       }
      }
     },
     "metadata": {},
     "output_type": "display_data"
    },
    {
     "data": {
      "application/vnd.plotly.v1+json": {
       "config": {
        "plotlyServerURL": "https://plot.ly"
       },
       "data": [
        {
         "colorscale": [
          [
           0,
           "rgb(103,0,31)"
          ],
          [
           0.1,
           "rgb(178,24,43)"
          ],
          [
           0.2,
           "rgb(214,96,77)"
          ],
          [
           0.3,
           "rgb(244,165,130)"
          ],
          [
           0.4,
           "rgb(253,219,199)"
          ],
          [
           0.5,
           "rgb(247,247,247)"
          ],
          [
           0.6,
           "rgb(209,229,240)"
          ],
          [
           0.7,
           "rgb(146,197,222)"
          ],
          [
           0.8,
           "rgb(67,147,195)"
          ],
          [
           0.9,
           "rgb(33,102,172)"
          ],
          [
           1,
           "rgb(5,48,97)"
          ]
         ],
         "hoverinfo": "x+y+z",
         "text": {
          "bdata": "AAAAAAAA8D/2KFyPwvXoP3sUrkfheuw/9ihcj8L16D8AAAAAAADwPylcj8L1KOw/exSuR+F67D8pXI/C9SjsPwAAAAAAAPA/",
          "dtype": "f8",
          "shape": "3, 3"
         },
         "texttemplate": "%{text}",
         "type": "heatmap",
         "x": [
          "Price",
          "Flight Duration",
          "co2 emissions"
         ],
         "y": [
          "Price",
          "Flight Duration",
          "co2 emissions"
         ],
         "z": {
          "bdata": "AAAAAAAA8D+QulWyYdLoPz9W1DYib+w/kLpVsmHS6D8AAAAAAADwP8mcacttK+w/P1bUNiJv7D/JnGnLbSvsPwAAAAAAAPA/",
          "dtype": "f8",
          "shape": "3, 3"
         },
         "zmax": 1,
         "zmin": -1
        }
       ],
       "layout": {
        "height": 400,
        "margin": {
         "t": 100
        },
        "template": {
         "data": {
          "bar": [
           {
            "error_x": {
             "color": "#2a3f5f"
            },
            "error_y": {
             "color": "#2a3f5f"
            },
            "marker": {
             "line": {
              "color": "white",
              "width": 0.5
             },
             "pattern": {
              "fillmode": "overlay",
              "size": 10,
              "solidity": 0.2
             }
            },
            "type": "bar"
           }
          ],
          "barpolar": [
           {
            "marker": {
             "line": {
              "color": "white",
              "width": 0.5
             },
             "pattern": {
              "fillmode": "overlay",
              "size": 10,
              "solidity": 0.2
             }
            },
            "type": "barpolar"
           }
          ],
          "carpet": [
           {
            "aaxis": {
             "endlinecolor": "#2a3f5f",
             "gridcolor": "#C8D4E3",
             "linecolor": "#C8D4E3",
             "minorgridcolor": "#C8D4E3",
             "startlinecolor": "#2a3f5f"
            },
            "baxis": {
             "endlinecolor": "#2a3f5f",
             "gridcolor": "#C8D4E3",
             "linecolor": "#C8D4E3",
             "minorgridcolor": "#C8D4E3",
             "startlinecolor": "#2a3f5f"
            },
            "type": "carpet"
           }
          ],
          "choropleth": [
           {
            "colorbar": {
             "outlinewidth": 0,
             "ticks": ""
            },
            "type": "choropleth"
           }
          ],
          "contour": [
           {
            "colorbar": {
             "outlinewidth": 0,
             "ticks": ""
            },
            "colorscale": [
             [
              0,
              "#0d0887"
             ],
             [
              0.1111111111111111,
              "#46039f"
             ],
             [
              0.2222222222222222,
              "#7201a8"
             ],
             [
              0.3333333333333333,
              "#9c179e"
             ],
             [
              0.4444444444444444,
              "#bd3786"
             ],
             [
              0.5555555555555556,
              "#d8576b"
             ],
             [
              0.6666666666666666,
              "#ed7953"
             ],
             [
              0.7777777777777778,
              "#fb9f3a"
             ],
             [
              0.8888888888888888,
              "#fdca26"
             ],
             [
              1,
              "#f0f921"
             ]
            ],
            "type": "contour"
           }
          ],
          "contourcarpet": [
           {
            "colorbar": {
             "outlinewidth": 0,
             "ticks": ""
            },
            "type": "contourcarpet"
           }
          ],
          "heatmap": [
           {
            "colorbar": {
             "outlinewidth": 0,
             "ticks": ""
            },
            "colorscale": [
             [
              0,
              "#0d0887"
             ],
             [
              0.1111111111111111,
              "#46039f"
             ],
             [
              0.2222222222222222,
              "#7201a8"
             ],
             [
              0.3333333333333333,
              "#9c179e"
             ],
             [
              0.4444444444444444,
              "#bd3786"
             ],
             [
              0.5555555555555556,
              "#d8576b"
             ],
             [
              0.6666666666666666,
              "#ed7953"
             ],
             [
              0.7777777777777778,
              "#fb9f3a"
             ],
             [
              0.8888888888888888,
              "#fdca26"
             ],
             [
              1,
              "#f0f921"
             ]
            ],
            "type": "heatmap"
           }
          ],
          "histogram": [
           {
            "marker": {
             "pattern": {
              "fillmode": "overlay",
              "size": 10,
              "solidity": 0.2
             }
            },
            "type": "histogram"
           }
          ],
          "histogram2d": [
           {
            "colorbar": {
             "outlinewidth": 0,
             "ticks": ""
            },
            "colorscale": [
             [
              0,
              "#0d0887"
             ],
             [
              0.1111111111111111,
              "#46039f"
             ],
             [
              0.2222222222222222,
              "#7201a8"
             ],
             [
              0.3333333333333333,
              "#9c179e"
             ],
             [
              0.4444444444444444,
              "#bd3786"
             ],
             [
              0.5555555555555556,
              "#d8576b"
             ],
             [
              0.6666666666666666,
              "#ed7953"
             ],
             [
              0.7777777777777778,
              "#fb9f3a"
             ],
             [
              0.8888888888888888,
              "#fdca26"
             ],
             [
              1,
              "#f0f921"
             ]
            ],
            "type": "histogram2d"
           }
          ],
          "histogram2dcontour": [
           {
            "colorbar": {
             "outlinewidth": 0,
             "ticks": ""
            },
            "colorscale": [
             [
              0,
              "#0d0887"
             ],
             [
              0.1111111111111111,
              "#46039f"
             ],
             [
              0.2222222222222222,
              "#7201a8"
             ],
             [
              0.3333333333333333,
              "#9c179e"
             ],
             [
              0.4444444444444444,
              "#bd3786"
             ],
             [
              0.5555555555555556,
              "#d8576b"
             ],
             [
              0.6666666666666666,
              "#ed7953"
             ],
             [
              0.7777777777777778,
              "#fb9f3a"
             ],
             [
              0.8888888888888888,
              "#fdca26"
             ],
             [
              1,
              "#f0f921"
             ]
            ],
            "type": "histogram2dcontour"
           }
          ],
          "mesh3d": [
           {
            "colorbar": {
             "outlinewidth": 0,
             "ticks": ""
            },
            "type": "mesh3d"
           }
          ],
          "parcoords": [
           {
            "line": {
             "colorbar": {
              "outlinewidth": 0,
              "ticks": ""
             }
            },
            "type": "parcoords"
           }
          ],
          "pie": [
           {
            "automargin": true,
            "type": "pie"
           }
          ],
          "scatter": [
           {
            "fillpattern": {
             "fillmode": "overlay",
             "size": 10,
             "solidity": 0.2
            },
            "type": "scatter"
           }
          ],
          "scatter3d": [
           {
            "line": {
             "colorbar": {
              "outlinewidth": 0,
              "ticks": ""
             }
            },
            "marker": {
             "colorbar": {
              "outlinewidth": 0,
              "ticks": ""
             }
            },
            "type": "scatter3d"
           }
          ],
          "scattercarpet": [
           {
            "marker": {
             "colorbar": {
              "outlinewidth": 0,
              "ticks": ""
             }
            },
            "type": "scattercarpet"
           }
          ],
          "scattergeo": [
           {
            "marker": {
             "colorbar": {
              "outlinewidth": 0,
              "ticks": ""
             }
            },
            "type": "scattergeo"
           }
          ],
          "scattergl": [
           {
            "marker": {
             "colorbar": {
              "outlinewidth": 0,
              "ticks": ""
             }
            },
            "type": "scattergl"
           }
          ],
          "scattermap": [
           {
            "marker": {
             "colorbar": {
              "outlinewidth": 0,
              "ticks": ""
             }
            },
            "type": "scattermap"
           }
          ],
          "scattermapbox": [
           {
            "marker": {
             "colorbar": {
              "outlinewidth": 0,
              "ticks": ""
             }
            },
            "type": "scattermapbox"
           }
          ],
          "scatterpolar": [
           {
            "marker": {
             "colorbar": {
              "outlinewidth": 0,
              "ticks": ""
             }
            },
            "type": "scatterpolar"
           }
          ],
          "scatterpolargl": [
           {
            "marker": {
             "colorbar": {
              "outlinewidth": 0,
              "ticks": ""
             }
            },
            "type": "scatterpolargl"
           }
          ],
          "scatterternary": [
           {
            "marker": {
             "colorbar": {
              "outlinewidth": 0,
              "ticks": ""
             }
            },
            "type": "scatterternary"
           }
          ],
          "surface": [
           {
            "colorbar": {
             "outlinewidth": 0,
             "ticks": ""
            },
            "colorscale": [
             [
              0,
              "#0d0887"
             ],
             [
              0.1111111111111111,
              "#46039f"
             ],
             [
              0.2222222222222222,
              "#7201a8"
             ],
             [
              0.3333333333333333,
              "#9c179e"
             ],
             [
              0.4444444444444444,
              "#bd3786"
             ],
             [
              0.5555555555555556,
              "#d8576b"
             ],
             [
              0.6666666666666666,
              "#ed7953"
             ],
             [
              0.7777777777777778,
              "#fb9f3a"
             ],
             [
              0.8888888888888888,
              "#fdca26"
             ],
             [
              1,
              "#f0f921"
             ]
            ],
            "type": "surface"
           }
          ],
          "table": [
           {
            "cells": {
             "fill": {
              "color": "#EBF0F8"
             },
             "line": {
              "color": "white"
             }
            },
            "header": {
             "fill": {
              "color": "#C8D4E3"
             },
             "line": {
              "color": "white"
             }
            },
            "type": "table"
           }
          ]
         },
         "layout": {
          "annotationdefaults": {
           "arrowcolor": "#2a3f5f",
           "arrowhead": 0,
           "arrowwidth": 1
          },
          "autotypenumbers": "strict",
          "coloraxis": {
           "colorbar": {
            "outlinewidth": 0,
            "ticks": ""
           }
          },
          "colorscale": {
           "diverging": [
            [
             0,
             "#8e0152"
            ],
            [
             0.1,
             "#c51b7d"
            ],
            [
             0.2,
             "#de77ae"
            ],
            [
             0.3,
             "#f1b6da"
            ],
            [
             0.4,
             "#fde0ef"
            ],
            [
             0.5,
             "#f7f7f7"
            ],
            [
             0.6,
             "#e6f5d0"
            ],
            [
             0.7,
             "#b8e186"
            ],
            [
             0.8,
             "#7fbc41"
            ],
            [
             0.9,
             "#4d9221"
            ],
            [
             1,
             "#276419"
            ]
           ],
           "sequential": [
            [
             0,
             "#0d0887"
            ],
            [
             0.1111111111111111,
             "#46039f"
            ],
            [
             0.2222222222222222,
             "#7201a8"
            ],
            [
             0.3333333333333333,
             "#9c179e"
            ],
            [
             0.4444444444444444,
             "#bd3786"
            ],
            [
             0.5555555555555556,
             "#d8576b"
            ],
            [
             0.6666666666666666,
             "#ed7953"
            ],
            [
             0.7777777777777778,
             "#fb9f3a"
            ],
            [
             0.8888888888888888,
             "#fdca26"
            ],
            [
             1,
             "#f0f921"
            ]
           ],
           "sequentialminus": [
            [
             0,
             "#0d0887"
            ],
            [
             0.1111111111111111,
             "#46039f"
            ],
            [
             0.2222222222222222,
             "#7201a8"
            ],
            [
             0.3333333333333333,
             "#9c179e"
            ],
            [
             0.4444444444444444,
             "#bd3786"
            ],
            [
             0.5555555555555556,
             "#d8576b"
            ],
            [
             0.6666666666666666,
             "#ed7953"
            ],
            [
             0.7777777777777778,
             "#fb9f3a"
            ],
            [
             0.8888888888888888,
             "#fdca26"
            ],
            [
             1,
             "#f0f921"
            ]
           ]
          },
          "colorway": [
           "#636efa",
           "#EF553B",
           "#00cc96",
           "#ab63fa",
           "#FFA15A",
           "#19d3f3",
           "#FF6692",
           "#B6E880",
           "#FF97FF",
           "#FECB52"
          ],
          "font": {
           "color": "#2a3f5f"
          },
          "geo": {
           "bgcolor": "white",
           "lakecolor": "white",
           "landcolor": "white",
           "showlakes": true,
           "showland": true,
           "subunitcolor": "#C8D4E3"
          },
          "hoverlabel": {
           "align": "left"
          },
          "hovermode": "closest",
          "mapbox": {
           "style": "light"
          },
          "paper_bgcolor": "white",
          "plot_bgcolor": "white",
          "polar": {
           "angularaxis": {
            "gridcolor": "#EBF0F8",
            "linecolor": "#EBF0F8",
            "ticks": ""
           },
           "bgcolor": "white",
           "radialaxis": {
            "gridcolor": "#EBF0F8",
            "linecolor": "#EBF0F8",
            "ticks": ""
           }
          },
          "scene": {
           "xaxis": {
            "backgroundcolor": "white",
            "gridcolor": "#DFE8F3",
            "gridwidth": 2,
            "linecolor": "#EBF0F8",
            "showbackground": true,
            "ticks": "",
            "zerolinecolor": "#EBF0F8"
           },
           "yaxis": {
            "backgroundcolor": "white",
            "gridcolor": "#DFE8F3",
            "gridwidth": 2,
            "linecolor": "#EBF0F8",
            "showbackground": true,
            "ticks": "",
            "zerolinecolor": "#EBF0F8"
           },
           "zaxis": {
            "backgroundcolor": "white",
            "gridcolor": "#DFE8F3",
            "gridwidth": 2,
            "linecolor": "#EBF0F8",
            "showbackground": true,
            "ticks": "",
            "zerolinecolor": "#EBF0F8"
           }
          },
          "shapedefaults": {
           "line": {
            "color": "#2a3f5f"
           }
          },
          "ternary": {
           "aaxis": {
            "gridcolor": "#DFE8F3",
            "linecolor": "#A2B1C6",
            "ticks": ""
           },
           "baxis": {
            "gridcolor": "#DFE8F3",
            "linecolor": "#A2B1C6",
            "ticks": ""
           },
           "bgcolor": "white",
           "caxis": {
            "gridcolor": "#DFE8F3",
            "linecolor": "#A2B1C6",
            "ticks": ""
           }
          },
          "title": {
           "x": 0.05
          },
          "xaxis": {
           "automargin": true,
           "gridcolor": "#EBF0F8",
           "linecolor": "#EBF0F8",
           "ticks": "",
           "title": {
            "standoff": 15
           },
           "zerolinecolor": "#EBF0F8",
           "zerolinewidth": 2
          },
          "yaxis": {
           "automargin": true,
           "gridcolor": "#EBF0F8",
           "linecolor": "#EBF0F8",
           "ticks": "",
           "title": {
            "standoff": 15
           },
           "zerolinecolor": "#EBF0F8",
           "zerolinewidth": 2
          }
         }
        },
        "title": {
         "text": "<b>Correlation Matrix Between Key Metrics</b>"
        },
        "width": 500,
        "xaxis": {
         "title": {
          "text": "Metric"
         }
        },
        "yaxis": {
         "title": {
          "text": "Metric"
         }
        }
       }
      }
     },
     "metadata": {},
     "output_type": "display_data"
    },
    {
     "data": {
      "application/vnd.plotly.v1+json": {
       "config": {
        "plotlyServerURL": "https://plot.ly"
       },
       "data": [
        {
         "cells": {
          "align": "center",
          "fill": {
           "color": "lavender"
          },
          "values": [
           [
            "Germany",
            "USA",
            "Egypt",
            "Australia",
            "Japan",
            "Thailand",
            "South Korea",
            "Hong Kong",
            "Malaysia",
            "Vietnam"
           ],
           [
            "17841.5 $",
            "17244.2 $",
            "13615.7 $",
            "7356.0 $",
            "3422.0 $",
            "3134.8 $",
            "2929.7 $",
            "2766.7 $",
            "2735.5 $",
            "1994.4 $"
           ],
           [
            "13540 $",
            "11194 $",
            "9714 $",
            "5673 $",
            "2604 $",
            "2691 $",
            "1961 $",
            "1486 $",
            "1928 $",
            "1897 $"
           ],
           [
            "32040 $",
            "25330 $",
            "30173 $",
            "16652 $",
            "6135 $",
            "4850 $",
            "7960 $",
            "3595 $",
            "5875 $",
            "4436 $"
           ]
          ]
         },
         "header": {
          "align": "center",
          "fill": {
           "color": "paleturquoise"
          },
          "font": {
           "size": 14
          },
          "values": [
           "<b>Country</b>",
           "<b>Average</b>",
           "<b>Minimum</b>",
           "<b>Maximum</b>"
          ]
         },
         "type": "table"
        }
       ],
       "layout": {
        "height": 600,
        "margin": {
         "b": 10,
         "l": 10,
         "r": 10,
         "t": 80
        },
        "template": {
         "data": {
          "bar": [
           {
            "error_x": {
             "color": "#2a3f5f"
            },
            "error_y": {
             "color": "#2a3f5f"
            },
            "marker": {
             "line": {
              "color": "white",
              "width": 0.5
             },
             "pattern": {
              "fillmode": "overlay",
              "size": 10,
              "solidity": 0.2
             }
            },
            "type": "bar"
           }
          ],
          "barpolar": [
           {
            "marker": {
             "line": {
              "color": "white",
              "width": 0.5
             },
             "pattern": {
              "fillmode": "overlay",
              "size": 10,
              "solidity": 0.2
             }
            },
            "type": "barpolar"
           }
          ],
          "carpet": [
           {
            "aaxis": {
             "endlinecolor": "#2a3f5f",
             "gridcolor": "#C8D4E3",
             "linecolor": "#C8D4E3",
             "minorgridcolor": "#C8D4E3",
             "startlinecolor": "#2a3f5f"
            },
            "baxis": {
             "endlinecolor": "#2a3f5f",
             "gridcolor": "#C8D4E3",
             "linecolor": "#C8D4E3",
             "minorgridcolor": "#C8D4E3",
             "startlinecolor": "#2a3f5f"
            },
            "type": "carpet"
           }
          ],
          "choropleth": [
           {
            "colorbar": {
             "outlinewidth": 0,
             "ticks": ""
            },
            "type": "choropleth"
           }
          ],
          "contour": [
           {
            "colorbar": {
             "outlinewidth": 0,
             "ticks": ""
            },
            "colorscale": [
             [
              0,
              "#0d0887"
             ],
             [
              0.1111111111111111,
              "#46039f"
             ],
             [
              0.2222222222222222,
              "#7201a8"
             ],
             [
              0.3333333333333333,
              "#9c179e"
             ],
             [
              0.4444444444444444,
              "#bd3786"
             ],
             [
              0.5555555555555556,
              "#d8576b"
             ],
             [
              0.6666666666666666,
              "#ed7953"
             ],
             [
              0.7777777777777778,
              "#fb9f3a"
             ],
             [
              0.8888888888888888,
              "#fdca26"
             ],
             [
              1,
              "#f0f921"
             ]
            ],
            "type": "contour"
           }
          ],
          "contourcarpet": [
           {
            "colorbar": {
             "outlinewidth": 0,
             "ticks": ""
            },
            "type": "contourcarpet"
           }
          ],
          "heatmap": [
           {
            "colorbar": {
             "outlinewidth": 0,
             "ticks": ""
            },
            "colorscale": [
             [
              0,
              "#0d0887"
             ],
             [
              0.1111111111111111,
              "#46039f"
             ],
             [
              0.2222222222222222,
              "#7201a8"
             ],
             [
              0.3333333333333333,
              "#9c179e"
             ],
             [
              0.4444444444444444,
              "#bd3786"
             ],
             [
              0.5555555555555556,
              "#d8576b"
             ],
             [
              0.6666666666666666,
              "#ed7953"
             ],
             [
              0.7777777777777778,
              "#fb9f3a"
             ],
             [
              0.8888888888888888,
              "#fdca26"
             ],
             [
              1,
              "#f0f921"
             ]
            ],
            "type": "heatmap"
           }
          ],
          "histogram": [
           {
            "marker": {
             "pattern": {
              "fillmode": "overlay",
              "size": 10,
              "solidity": 0.2
             }
            },
            "type": "histogram"
           }
          ],
          "histogram2d": [
           {
            "colorbar": {
             "outlinewidth": 0,
             "ticks": ""
            },
            "colorscale": [
             [
              0,
              "#0d0887"
             ],
             [
              0.1111111111111111,
              "#46039f"
             ],
             [
              0.2222222222222222,
              "#7201a8"
             ],
             [
              0.3333333333333333,
              "#9c179e"
             ],
             [
              0.4444444444444444,
              "#bd3786"
             ],
             [
              0.5555555555555556,
              "#d8576b"
             ],
             [
              0.6666666666666666,
              "#ed7953"
             ],
             [
              0.7777777777777778,
              "#fb9f3a"
             ],
             [
              0.8888888888888888,
              "#fdca26"
             ],
             [
              1,
              "#f0f921"
             ]
            ],
            "type": "histogram2d"
           }
          ],
          "histogram2dcontour": [
           {
            "colorbar": {
             "outlinewidth": 0,
             "ticks": ""
            },
            "colorscale": [
             [
              0,
              "#0d0887"
             ],
             [
              0.1111111111111111,
              "#46039f"
             ],
             [
              0.2222222222222222,
              "#7201a8"
             ],
             [
              0.3333333333333333,
              "#9c179e"
             ],
             [
              0.4444444444444444,
              "#bd3786"
             ],
             [
              0.5555555555555556,
              "#d8576b"
             ],
             [
              0.6666666666666666,
              "#ed7953"
             ],
             [
              0.7777777777777778,
              "#fb9f3a"
             ],
             [
              0.8888888888888888,
              "#fdca26"
             ],
             [
              1,
              "#f0f921"
             ]
            ],
            "type": "histogram2dcontour"
           }
          ],
          "mesh3d": [
           {
            "colorbar": {
             "outlinewidth": 0,
             "ticks": ""
            },
            "type": "mesh3d"
           }
          ],
          "parcoords": [
           {
            "line": {
             "colorbar": {
              "outlinewidth": 0,
              "ticks": ""
             }
            },
            "type": "parcoords"
           }
          ],
          "pie": [
           {
            "automargin": true,
            "type": "pie"
           }
          ],
          "scatter": [
           {
            "fillpattern": {
             "fillmode": "overlay",
             "size": 10,
             "solidity": 0.2
            },
            "type": "scatter"
           }
          ],
          "scatter3d": [
           {
            "line": {
             "colorbar": {
              "outlinewidth": 0,
              "ticks": ""
             }
            },
            "marker": {
             "colorbar": {
              "outlinewidth": 0,
              "ticks": ""
             }
            },
            "type": "scatter3d"
           }
          ],
          "scattercarpet": [
           {
            "marker": {
             "colorbar": {
              "outlinewidth": 0,
              "ticks": ""
             }
            },
            "type": "scattercarpet"
           }
          ],
          "scattergeo": [
           {
            "marker": {
             "colorbar": {
              "outlinewidth": 0,
              "ticks": ""
             }
            },
            "type": "scattergeo"
           }
          ],
          "scattergl": [
           {
            "marker": {
             "colorbar": {
              "outlinewidth": 0,
              "ticks": ""
             }
            },
            "type": "scattergl"
           }
          ],
          "scattermap": [
           {
            "marker": {
             "colorbar": {
              "outlinewidth": 0,
              "ticks": ""
             }
            },
            "type": "scattermap"
           }
          ],
          "scattermapbox": [
           {
            "marker": {
             "colorbar": {
              "outlinewidth": 0,
              "ticks": ""
             }
            },
            "type": "scattermapbox"
           }
          ],
          "scatterpolar": [
           {
            "marker": {
             "colorbar": {
              "outlinewidth": 0,
              "ticks": ""
             }
            },
            "type": "scatterpolar"
           }
          ],
          "scatterpolargl": [
           {
            "marker": {
             "colorbar": {
              "outlinewidth": 0,
              "ticks": ""
             }
            },
            "type": "scatterpolargl"
           }
          ],
          "scatterternary": [
           {
            "marker": {
             "colorbar": {
              "outlinewidth": 0,
              "ticks": ""
             }
            },
            "type": "scatterternary"
           }
          ],
          "surface": [
           {
            "colorbar": {
             "outlinewidth": 0,
             "ticks": ""
            },
            "colorscale": [
             [
              0,
              "#0d0887"
             ],
             [
              0.1111111111111111,
              "#46039f"
             ],
             [
              0.2222222222222222,
              "#7201a8"
             ],
             [
              0.3333333333333333,
              "#9c179e"
             ],
             [
              0.4444444444444444,
              "#bd3786"
             ],
             [
              0.5555555555555556,
              "#d8576b"
             ],
             [
              0.6666666666666666,
              "#ed7953"
             ],
             [
              0.7777777777777778,
              "#fb9f3a"
             ],
             [
              0.8888888888888888,
              "#fdca26"
             ],
             [
              1,
              "#f0f921"
             ]
            ],
            "type": "surface"
           }
          ],
          "table": [
           {
            "cells": {
             "fill": {
              "color": "#EBF0F8"
             },
             "line": {
              "color": "white"
             }
            },
            "header": {
             "fill": {
              "color": "#C8D4E3"
             },
             "line": {
              "color": "white"
             }
            },
            "type": "table"
           }
          ]
         },
         "layout": {
          "annotationdefaults": {
           "arrowcolor": "#2a3f5f",
           "arrowhead": 0,
           "arrowwidth": 1
          },
          "autotypenumbers": "strict",
          "coloraxis": {
           "colorbar": {
            "outlinewidth": 0,
            "ticks": ""
           }
          },
          "colorscale": {
           "diverging": [
            [
             0,
             "#8e0152"
            ],
            [
             0.1,
             "#c51b7d"
            ],
            [
             0.2,
             "#de77ae"
            ],
            [
             0.3,
             "#f1b6da"
            ],
            [
             0.4,
             "#fde0ef"
            ],
            [
             0.5,
             "#f7f7f7"
            ],
            [
             0.6,
             "#e6f5d0"
            ],
            [
             0.7,
             "#b8e186"
            ],
            [
             0.8,
             "#7fbc41"
            ],
            [
             0.9,
             "#4d9221"
            ],
            [
             1,
             "#276419"
            ]
           ],
           "sequential": [
            [
             0,
             "#0d0887"
            ],
            [
             0.1111111111111111,
             "#46039f"
            ],
            [
             0.2222222222222222,
             "#7201a8"
            ],
            [
             0.3333333333333333,
             "#9c179e"
            ],
            [
             0.4444444444444444,
             "#bd3786"
            ],
            [
             0.5555555555555556,
             "#d8576b"
            ],
            [
             0.6666666666666666,
             "#ed7953"
            ],
            [
             0.7777777777777778,
             "#fb9f3a"
            ],
            [
             0.8888888888888888,
             "#fdca26"
            ],
            [
             1,
             "#f0f921"
            ]
           ],
           "sequentialminus": [
            [
             0,
             "#0d0887"
            ],
            [
             0.1111111111111111,
             "#46039f"
            ],
            [
             0.2222222222222222,
             "#7201a8"
            ],
            [
             0.3333333333333333,
             "#9c179e"
            ],
            [
             0.4444444444444444,
             "#bd3786"
            ],
            [
             0.5555555555555556,
             "#d8576b"
            ],
            [
             0.6666666666666666,
             "#ed7953"
            ],
            [
             0.7777777777777778,
             "#fb9f3a"
            ],
            [
             0.8888888888888888,
             "#fdca26"
            ],
            [
             1,
             "#f0f921"
            ]
           ]
          },
          "colorway": [
           "#636efa",
           "#EF553B",
           "#00cc96",
           "#ab63fa",
           "#FFA15A",
           "#19d3f3",
           "#FF6692",
           "#B6E880",
           "#FF97FF",
           "#FECB52"
          ],
          "font": {
           "color": "#2a3f5f"
          },
          "geo": {
           "bgcolor": "white",
           "lakecolor": "white",
           "landcolor": "white",
           "showlakes": true,
           "showland": true,
           "subunitcolor": "#C8D4E3"
          },
          "hoverlabel": {
           "align": "left"
          },
          "hovermode": "closest",
          "mapbox": {
           "style": "light"
          },
          "paper_bgcolor": "white",
          "plot_bgcolor": "white",
          "polar": {
           "angularaxis": {
            "gridcolor": "#EBF0F8",
            "linecolor": "#EBF0F8",
            "ticks": ""
           },
           "bgcolor": "white",
           "radialaxis": {
            "gridcolor": "#EBF0F8",
            "linecolor": "#EBF0F8",
            "ticks": ""
           }
          },
          "scene": {
           "xaxis": {
            "backgroundcolor": "white",
            "gridcolor": "#DFE8F3",
            "gridwidth": 2,
            "linecolor": "#EBF0F8",
            "showbackground": true,
            "ticks": "",
            "zerolinecolor": "#EBF0F8"
           },
           "yaxis": {
            "backgroundcolor": "white",
            "gridcolor": "#DFE8F3",
            "gridwidth": 2,
            "linecolor": "#EBF0F8",
            "showbackground": true,
            "ticks": "",
            "zerolinecolor": "#EBF0F8"
           },
           "zaxis": {
            "backgroundcolor": "white",
            "gridcolor": "#DFE8F3",
            "gridwidth": 2,
            "linecolor": "#EBF0F8",
            "showbackground": true,
            "ticks": "",
            "zerolinecolor": "#EBF0F8"
           }
          },
          "shapedefaults": {
           "line": {
            "color": "#2a3f5f"
           }
          },
          "ternary": {
           "aaxis": {
            "gridcolor": "#DFE8F3",
            "linecolor": "#A2B1C6",
            "ticks": ""
           },
           "baxis": {
            "gridcolor": "#DFE8F3",
            "linecolor": "#A2B1C6",
            "ticks": ""
           },
           "bgcolor": "white",
           "caxis": {
            "gridcolor": "#DFE8F3",
            "linecolor": "#A2B1C6",
            "ticks": ""
           }
          },
          "title": {
           "x": 0.05
          },
          "xaxis": {
           "automargin": true,
           "gridcolor": "#EBF0F8",
           "linecolor": "#EBF0F8",
           "ticks": "",
           "title": {
            "standoff": 15
           },
           "zerolinecolor": "#EBF0F8",
           "zerolinewidth": 2
          },
          "yaxis": {
           "automargin": true,
           "gridcolor": "#EBF0F8",
           "linecolor": "#EBF0F8",
           "ticks": "",
           "title": {
            "standoff": 15
           },
           "zerolinecolor": "#EBF0F8",
           "zerolinewidth": 2
          }
         }
        },
        "title": {
         "text": "<b>💵 Flight Price Ranking (USD)</b>"
        }
       }
      }
     },
     "metadata": {},
     "output_type": "display_data"
    },
    {
     "data": {
      "application/vnd.plotly.v1+json": {
       "config": {
        "plotlyServerURL": "https://plot.ly"
       },
       "data": [
        {
         "cells": {
          "align": "center",
          "fill": {
           "color": "lavender"
          },
          "values": [
           [
            "Egypt",
            "Australia",
            "Germany",
            "USA",
            "Malaysia",
            "Thailand",
            "Japan",
            "Vietnam",
            "South Korea",
            "Hong Kong"
           ],
           [
            "1211.1 min",
            "1149.3 min",
            "1033.4 min",
            "992.2 min",
            "366.0 min",
            "228.5 min",
            "217.7 min",
            "209.2 min",
            "161.3 min",
            "115.2 min"
           ],
           [
            "995 min",
            "935 min",
            "890 min",
            "720 min",
            "285 min",
            "220 min",
            "200 min",
            "205 min",
            "145 min",
            "105 min"
           ],
           [
            "2650 min",
            "1500 min",
            "1280 min",
            "1976 min",
            "1065 min",
            "230 min",
            "250 min",
            "220 min",
            "890 min",
            "130 min"
           ]
          ]
         },
         "header": {
          "align": "center",
          "fill": {
           "color": "paleturquoise"
          },
          "font": {
           "size": 14
          },
          "values": [
           "<b>Country</b>",
           "<b>Average</b>",
           "<b>Minimum</b>",
           "<b>Maximum</b>"
          ]
         },
         "type": "table"
        }
       ],
       "layout": {
        "height": 600,
        "margin": {
         "b": 10,
         "l": 10,
         "r": 10,
         "t": 80
        },
        "template": {
         "data": {
          "bar": [
           {
            "error_x": {
             "color": "#2a3f5f"
            },
            "error_y": {
             "color": "#2a3f5f"
            },
            "marker": {
             "line": {
              "color": "white",
              "width": 0.5
             },
             "pattern": {
              "fillmode": "overlay",
              "size": 10,
              "solidity": 0.2
             }
            },
            "type": "bar"
           }
          ],
          "barpolar": [
           {
            "marker": {
             "line": {
              "color": "white",
              "width": 0.5
             },
             "pattern": {
              "fillmode": "overlay",
              "size": 10,
              "solidity": 0.2
             }
            },
            "type": "barpolar"
           }
          ],
          "carpet": [
           {
            "aaxis": {
             "endlinecolor": "#2a3f5f",
             "gridcolor": "#C8D4E3",
             "linecolor": "#C8D4E3",
             "minorgridcolor": "#C8D4E3",
             "startlinecolor": "#2a3f5f"
            },
            "baxis": {
             "endlinecolor": "#2a3f5f",
             "gridcolor": "#C8D4E3",
             "linecolor": "#C8D4E3",
             "minorgridcolor": "#C8D4E3",
             "startlinecolor": "#2a3f5f"
            },
            "type": "carpet"
           }
          ],
          "choropleth": [
           {
            "colorbar": {
             "outlinewidth": 0,
             "ticks": ""
            },
            "type": "choropleth"
           }
          ],
          "contour": [
           {
            "colorbar": {
             "outlinewidth": 0,
             "ticks": ""
            },
            "colorscale": [
             [
              0,
              "#0d0887"
             ],
             [
              0.1111111111111111,
              "#46039f"
             ],
             [
              0.2222222222222222,
              "#7201a8"
             ],
             [
              0.3333333333333333,
              "#9c179e"
             ],
             [
              0.4444444444444444,
              "#bd3786"
             ],
             [
              0.5555555555555556,
              "#d8576b"
             ],
             [
              0.6666666666666666,
              "#ed7953"
             ],
             [
              0.7777777777777778,
              "#fb9f3a"
             ],
             [
              0.8888888888888888,
              "#fdca26"
             ],
             [
              1,
              "#f0f921"
             ]
            ],
            "type": "contour"
           }
          ],
          "contourcarpet": [
           {
            "colorbar": {
             "outlinewidth": 0,
             "ticks": ""
            },
            "type": "contourcarpet"
           }
          ],
          "heatmap": [
           {
            "colorbar": {
             "outlinewidth": 0,
             "ticks": ""
            },
            "colorscale": [
             [
              0,
              "#0d0887"
             ],
             [
              0.1111111111111111,
              "#46039f"
             ],
             [
              0.2222222222222222,
              "#7201a8"
             ],
             [
              0.3333333333333333,
              "#9c179e"
             ],
             [
              0.4444444444444444,
              "#bd3786"
             ],
             [
              0.5555555555555556,
              "#d8576b"
             ],
             [
              0.6666666666666666,
              "#ed7953"
             ],
             [
              0.7777777777777778,
              "#fb9f3a"
             ],
             [
              0.8888888888888888,
              "#fdca26"
             ],
             [
              1,
              "#f0f921"
             ]
            ],
            "type": "heatmap"
           }
          ],
          "histogram": [
           {
            "marker": {
             "pattern": {
              "fillmode": "overlay",
              "size": 10,
              "solidity": 0.2
             }
            },
            "type": "histogram"
           }
          ],
          "histogram2d": [
           {
            "colorbar": {
             "outlinewidth": 0,
             "ticks": ""
            },
            "colorscale": [
             [
              0,
              "#0d0887"
             ],
             [
              0.1111111111111111,
              "#46039f"
             ],
             [
              0.2222222222222222,
              "#7201a8"
             ],
             [
              0.3333333333333333,
              "#9c179e"
             ],
             [
              0.4444444444444444,
              "#bd3786"
             ],
             [
              0.5555555555555556,
              "#d8576b"
             ],
             [
              0.6666666666666666,
              "#ed7953"
             ],
             [
              0.7777777777777778,
              "#fb9f3a"
             ],
             [
              0.8888888888888888,
              "#fdca26"
             ],
             [
              1,
              "#f0f921"
             ]
            ],
            "type": "histogram2d"
           }
          ],
          "histogram2dcontour": [
           {
            "colorbar": {
             "outlinewidth": 0,
             "ticks": ""
            },
            "colorscale": [
             [
              0,
              "#0d0887"
             ],
             [
              0.1111111111111111,
              "#46039f"
             ],
             [
              0.2222222222222222,
              "#7201a8"
             ],
             [
              0.3333333333333333,
              "#9c179e"
             ],
             [
              0.4444444444444444,
              "#bd3786"
             ],
             [
              0.5555555555555556,
              "#d8576b"
             ],
             [
              0.6666666666666666,
              "#ed7953"
             ],
             [
              0.7777777777777778,
              "#fb9f3a"
             ],
             [
              0.8888888888888888,
              "#fdca26"
             ],
             [
              1,
              "#f0f921"
             ]
            ],
            "type": "histogram2dcontour"
           }
          ],
          "mesh3d": [
           {
            "colorbar": {
             "outlinewidth": 0,
             "ticks": ""
            },
            "type": "mesh3d"
           }
          ],
          "parcoords": [
           {
            "line": {
             "colorbar": {
              "outlinewidth": 0,
              "ticks": ""
             }
            },
            "type": "parcoords"
           }
          ],
          "pie": [
           {
            "automargin": true,
            "type": "pie"
           }
          ],
          "scatter": [
           {
            "fillpattern": {
             "fillmode": "overlay",
             "size": 10,
             "solidity": 0.2
            },
            "type": "scatter"
           }
          ],
          "scatter3d": [
           {
            "line": {
             "colorbar": {
              "outlinewidth": 0,
              "ticks": ""
             }
            },
            "marker": {
             "colorbar": {
              "outlinewidth": 0,
              "ticks": ""
             }
            },
            "type": "scatter3d"
           }
          ],
          "scattercarpet": [
           {
            "marker": {
             "colorbar": {
              "outlinewidth": 0,
              "ticks": ""
             }
            },
            "type": "scattercarpet"
           }
          ],
          "scattergeo": [
           {
            "marker": {
             "colorbar": {
              "outlinewidth": 0,
              "ticks": ""
             }
            },
            "type": "scattergeo"
           }
          ],
          "scattergl": [
           {
            "marker": {
             "colorbar": {
              "outlinewidth": 0,
              "ticks": ""
             }
            },
            "type": "scattergl"
           }
          ],
          "scattermap": [
           {
            "marker": {
             "colorbar": {
              "outlinewidth": 0,
              "ticks": ""
             }
            },
            "type": "scattermap"
           }
          ],
          "scattermapbox": [
           {
            "marker": {
             "colorbar": {
              "outlinewidth": 0,
              "ticks": ""
             }
            },
            "type": "scattermapbox"
           }
          ],
          "scatterpolar": [
           {
            "marker": {
             "colorbar": {
              "outlinewidth": 0,
              "ticks": ""
             }
            },
            "type": "scatterpolar"
           }
          ],
          "scatterpolargl": [
           {
            "marker": {
             "colorbar": {
              "outlinewidth": 0,
              "ticks": ""
             }
            },
            "type": "scatterpolargl"
           }
          ],
          "scatterternary": [
           {
            "marker": {
             "colorbar": {
              "outlinewidth": 0,
              "ticks": ""
             }
            },
            "type": "scatterternary"
           }
          ],
          "surface": [
           {
            "colorbar": {
             "outlinewidth": 0,
             "ticks": ""
            },
            "colorscale": [
             [
              0,
              "#0d0887"
             ],
             [
              0.1111111111111111,
              "#46039f"
             ],
             [
              0.2222222222222222,
              "#7201a8"
             ],
             [
              0.3333333333333333,
              "#9c179e"
             ],
             [
              0.4444444444444444,
              "#bd3786"
             ],
             [
              0.5555555555555556,
              "#d8576b"
             ],
             [
              0.6666666666666666,
              "#ed7953"
             ],
             [
              0.7777777777777778,
              "#fb9f3a"
             ],
             [
              0.8888888888888888,
              "#fdca26"
             ],
             [
              1,
              "#f0f921"
             ]
            ],
            "type": "surface"
           }
          ],
          "table": [
           {
            "cells": {
             "fill": {
              "color": "#EBF0F8"
             },
             "line": {
              "color": "white"
             }
            },
            "header": {
             "fill": {
              "color": "#C8D4E3"
             },
             "line": {
              "color": "white"
             }
            },
            "type": "table"
           }
          ]
         },
         "layout": {
          "annotationdefaults": {
           "arrowcolor": "#2a3f5f",
           "arrowhead": 0,
           "arrowwidth": 1
          },
          "autotypenumbers": "strict",
          "coloraxis": {
           "colorbar": {
            "outlinewidth": 0,
            "ticks": ""
           }
          },
          "colorscale": {
           "diverging": [
            [
             0,
             "#8e0152"
            ],
            [
             0.1,
             "#c51b7d"
            ],
            [
             0.2,
             "#de77ae"
            ],
            [
             0.3,
             "#f1b6da"
            ],
            [
             0.4,
             "#fde0ef"
            ],
            [
             0.5,
             "#f7f7f7"
            ],
            [
             0.6,
             "#e6f5d0"
            ],
            [
             0.7,
             "#b8e186"
            ],
            [
             0.8,
             "#7fbc41"
            ],
            [
             0.9,
             "#4d9221"
            ],
            [
             1,
             "#276419"
            ]
           ],
           "sequential": [
            [
             0,
             "#0d0887"
            ],
            [
             0.1111111111111111,
             "#46039f"
            ],
            [
             0.2222222222222222,
             "#7201a8"
            ],
            [
             0.3333333333333333,
             "#9c179e"
            ],
            [
             0.4444444444444444,
             "#bd3786"
            ],
            [
             0.5555555555555556,
             "#d8576b"
            ],
            [
             0.6666666666666666,
             "#ed7953"
            ],
            [
             0.7777777777777778,
             "#fb9f3a"
            ],
            [
             0.8888888888888888,
             "#fdca26"
            ],
            [
             1,
             "#f0f921"
            ]
           ],
           "sequentialminus": [
            [
             0,
             "#0d0887"
            ],
            [
             0.1111111111111111,
             "#46039f"
            ],
            [
             0.2222222222222222,
             "#7201a8"
            ],
            [
             0.3333333333333333,
             "#9c179e"
            ],
            [
             0.4444444444444444,
             "#bd3786"
            ],
            [
             0.5555555555555556,
             "#d8576b"
            ],
            [
             0.6666666666666666,
             "#ed7953"
            ],
            [
             0.7777777777777778,
             "#fb9f3a"
            ],
            [
             0.8888888888888888,
             "#fdca26"
            ],
            [
             1,
             "#f0f921"
            ]
           ]
          },
          "colorway": [
           "#636efa",
           "#EF553B",
           "#00cc96",
           "#ab63fa",
           "#FFA15A",
           "#19d3f3",
           "#FF6692",
           "#B6E880",
           "#FF97FF",
           "#FECB52"
          ],
          "font": {
           "color": "#2a3f5f"
          },
          "geo": {
           "bgcolor": "white",
           "lakecolor": "white",
           "landcolor": "white",
           "showlakes": true,
           "showland": true,
           "subunitcolor": "#C8D4E3"
          },
          "hoverlabel": {
           "align": "left"
          },
          "hovermode": "closest",
          "mapbox": {
           "style": "light"
          },
          "paper_bgcolor": "white",
          "plot_bgcolor": "white",
          "polar": {
           "angularaxis": {
            "gridcolor": "#EBF0F8",
            "linecolor": "#EBF0F8",
            "ticks": ""
           },
           "bgcolor": "white",
           "radialaxis": {
            "gridcolor": "#EBF0F8",
            "linecolor": "#EBF0F8",
            "ticks": ""
           }
          },
          "scene": {
           "xaxis": {
            "backgroundcolor": "white",
            "gridcolor": "#DFE8F3",
            "gridwidth": 2,
            "linecolor": "#EBF0F8",
            "showbackground": true,
            "ticks": "",
            "zerolinecolor": "#EBF0F8"
           },
           "yaxis": {
            "backgroundcolor": "white",
            "gridcolor": "#DFE8F3",
            "gridwidth": 2,
            "linecolor": "#EBF0F8",
            "showbackground": true,
            "ticks": "",
            "zerolinecolor": "#EBF0F8"
           },
           "zaxis": {
            "backgroundcolor": "white",
            "gridcolor": "#DFE8F3",
            "gridwidth": 2,
            "linecolor": "#EBF0F8",
            "showbackground": true,
            "ticks": "",
            "zerolinecolor": "#EBF0F8"
           }
          },
          "shapedefaults": {
           "line": {
            "color": "#2a3f5f"
           }
          },
          "ternary": {
           "aaxis": {
            "gridcolor": "#DFE8F3",
            "linecolor": "#A2B1C6",
            "ticks": ""
           },
           "baxis": {
            "gridcolor": "#DFE8F3",
            "linecolor": "#A2B1C6",
            "ticks": ""
           },
           "bgcolor": "white",
           "caxis": {
            "gridcolor": "#DFE8F3",
            "linecolor": "#A2B1C6",
            "ticks": ""
           }
          },
          "title": {
           "x": 0.05
          },
          "xaxis": {
           "automargin": true,
           "gridcolor": "#EBF0F8",
           "linecolor": "#EBF0F8",
           "ticks": "",
           "title": {
            "standoff": 15
           },
           "zerolinecolor": "#EBF0F8",
           "zerolinewidth": 2
          },
          "yaxis": {
           "automargin": true,
           "gridcolor": "#EBF0F8",
           "linecolor": "#EBF0F8",
           "ticks": "",
           "title": {
            "standoff": 15
           },
           "zerolinecolor": "#EBF0F8",
           "zerolinewidth": 2
          }
         }
        },
        "title": {
         "text": "<b>⏱️ Flight Duration Ranking (minutes)</b>"
        }
       }
      }
     },
     "metadata": {},
     "output_type": "display_data"
    },
    {
     "data": {
      "application/vnd.plotly.v1+json": {
       "config": {
        "plotlyServerURL": "https://plot.ly"
       },
       "data": [
        {
         "cells": {
          "align": "center",
          "fill": {
           "color": "lavender"
          },
          "values": [
           [
            "Germany",
            "USA",
            "Egypt",
            "Australia",
            "Malaysia",
            "Thailand",
            "Vietnam",
            "Japan",
            "South Korea",
            "Hong Kong"
           ],
           [
            "909.2 kg",
            "694.0 kg",
            "671.7 kg",
            "501.2 kg",
            "230.1 kg",
            "211.5 kg",
            "184.3 kg",
            "151.7 kg",
            "116.2 kg",
            "88.6 kg"
           ],
           [
            "676 kg",
            "532 kg",
            "648 kg",
            "388 kg",
            "211 kg",
            "201 kg",
            "177 kg",
            "135 kg",
            "101 kg",
            "87 kg"
           ],
           [
            "1025 kg",
            "921 kg",
            "807 kg",
            "606 kg",
            "263 kg",
            "248 kg",
            "187 kg",
            "185 kg",
            "191 kg",
            "94 kg"
           ]
          ]
         },
         "header": {
          "align": "center",
          "fill": {
           "color": "paleturquoise"
          },
          "font": {
           "size": 14
          },
          "values": [
           "<b>Country</b>",
           "<b>Average</b>",
           "<b>Minimum</b>",
           "<b>Maximum</b>"
          ]
         },
         "type": "table"
        }
       ],
       "layout": {
        "height": 600,
        "margin": {
         "b": 10,
         "l": 10,
         "r": 10,
         "t": 80
        },
        "template": {
         "data": {
          "bar": [
           {
            "error_x": {
             "color": "#2a3f5f"
            },
            "error_y": {
             "color": "#2a3f5f"
            },
            "marker": {
             "line": {
              "color": "white",
              "width": 0.5
             },
             "pattern": {
              "fillmode": "overlay",
              "size": 10,
              "solidity": 0.2
             }
            },
            "type": "bar"
           }
          ],
          "barpolar": [
           {
            "marker": {
             "line": {
              "color": "white",
              "width": 0.5
             },
             "pattern": {
              "fillmode": "overlay",
              "size": 10,
              "solidity": 0.2
             }
            },
            "type": "barpolar"
           }
          ],
          "carpet": [
           {
            "aaxis": {
             "endlinecolor": "#2a3f5f",
             "gridcolor": "#C8D4E3",
             "linecolor": "#C8D4E3",
             "minorgridcolor": "#C8D4E3",
             "startlinecolor": "#2a3f5f"
            },
            "baxis": {
             "endlinecolor": "#2a3f5f",
             "gridcolor": "#C8D4E3",
             "linecolor": "#C8D4E3",
             "minorgridcolor": "#C8D4E3",
             "startlinecolor": "#2a3f5f"
            },
            "type": "carpet"
           }
          ],
          "choropleth": [
           {
            "colorbar": {
             "outlinewidth": 0,
             "ticks": ""
            },
            "type": "choropleth"
           }
          ],
          "contour": [
           {
            "colorbar": {
             "outlinewidth": 0,
             "ticks": ""
            },
            "colorscale": [
             [
              0,
              "#0d0887"
             ],
             [
              0.1111111111111111,
              "#46039f"
             ],
             [
              0.2222222222222222,
              "#7201a8"
             ],
             [
              0.3333333333333333,
              "#9c179e"
             ],
             [
              0.4444444444444444,
              "#bd3786"
             ],
             [
              0.5555555555555556,
              "#d8576b"
             ],
             [
              0.6666666666666666,
              "#ed7953"
             ],
             [
              0.7777777777777778,
              "#fb9f3a"
             ],
             [
              0.8888888888888888,
              "#fdca26"
             ],
             [
              1,
              "#f0f921"
             ]
            ],
            "type": "contour"
           }
          ],
          "contourcarpet": [
           {
            "colorbar": {
             "outlinewidth": 0,
             "ticks": ""
            },
            "type": "contourcarpet"
           }
          ],
          "heatmap": [
           {
            "colorbar": {
             "outlinewidth": 0,
             "ticks": ""
            },
            "colorscale": [
             [
              0,
              "#0d0887"
             ],
             [
              0.1111111111111111,
              "#46039f"
             ],
             [
              0.2222222222222222,
              "#7201a8"
             ],
             [
              0.3333333333333333,
              "#9c179e"
             ],
             [
              0.4444444444444444,
              "#bd3786"
             ],
             [
              0.5555555555555556,
              "#d8576b"
             ],
             [
              0.6666666666666666,
              "#ed7953"
             ],
             [
              0.7777777777777778,
              "#fb9f3a"
             ],
             [
              0.8888888888888888,
              "#fdca26"
             ],
             [
              1,
              "#f0f921"
             ]
            ],
            "type": "heatmap"
           }
          ],
          "histogram": [
           {
            "marker": {
             "pattern": {
              "fillmode": "overlay",
              "size": 10,
              "solidity": 0.2
             }
            },
            "type": "histogram"
           }
          ],
          "histogram2d": [
           {
            "colorbar": {
             "outlinewidth": 0,
             "ticks": ""
            },
            "colorscale": [
             [
              0,
              "#0d0887"
             ],
             [
              0.1111111111111111,
              "#46039f"
             ],
             [
              0.2222222222222222,
              "#7201a8"
             ],
             [
              0.3333333333333333,
              "#9c179e"
             ],
             [
              0.4444444444444444,
              "#bd3786"
             ],
             [
              0.5555555555555556,
              "#d8576b"
             ],
             [
              0.6666666666666666,
              "#ed7953"
             ],
             [
              0.7777777777777778,
              "#fb9f3a"
             ],
             [
              0.8888888888888888,
              "#fdca26"
             ],
             [
              1,
              "#f0f921"
             ]
            ],
            "type": "histogram2d"
           }
          ],
          "histogram2dcontour": [
           {
            "colorbar": {
             "outlinewidth": 0,
             "ticks": ""
            },
            "colorscale": [
             [
              0,
              "#0d0887"
             ],
             [
              0.1111111111111111,
              "#46039f"
             ],
             [
              0.2222222222222222,
              "#7201a8"
             ],
             [
              0.3333333333333333,
              "#9c179e"
             ],
             [
              0.4444444444444444,
              "#bd3786"
             ],
             [
              0.5555555555555556,
              "#d8576b"
             ],
             [
              0.6666666666666666,
              "#ed7953"
             ],
             [
              0.7777777777777778,
              "#fb9f3a"
             ],
             [
              0.8888888888888888,
              "#fdca26"
             ],
             [
              1,
              "#f0f921"
             ]
            ],
            "type": "histogram2dcontour"
           }
          ],
          "mesh3d": [
           {
            "colorbar": {
             "outlinewidth": 0,
             "ticks": ""
            },
            "type": "mesh3d"
           }
          ],
          "parcoords": [
           {
            "line": {
             "colorbar": {
              "outlinewidth": 0,
              "ticks": ""
             }
            },
            "type": "parcoords"
           }
          ],
          "pie": [
           {
            "automargin": true,
            "type": "pie"
           }
          ],
          "scatter": [
           {
            "fillpattern": {
             "fillmode": "overlay",
             "size": 10,
             "solidity": 0.2
            },
            "type": "scatter"
           }
          ],
          "scatter3d": [
           {
            "line": {
             "colorbar": {
              "outlinewidth": 0,
              "ticks": ""
             }
            },
            "marker": {
             "colorbar": {
              "outlinewidth": 0,
              "ticks": ""
             }
            },
            "type": "scatter3d"
           }
          ],
          "scattercarpet": [
           {
            "marker": {
             "colorbar": {
              "outlinewidth": 0,
              "ticks": ""
             }
            },
            "type": "scattercarpet"
           }
          ],
          "scattergeo": [
           {
            "marker": {
             "colorbar": {
              "outlinewidth": 0,
              "ticks": ""
             }
            },
            "type": "scattergeo"
           }
          ],
          "scattergl": [
           {
            "marker": {
             "colorbar": {
              "outlinewidth": 0,
              "ticks": ""
             }
            },
            "type": "scattergl"
           }
          ],
          "scattermap": [
           {
            "marker": {
             "colorbar": {
              "outlinewidth": 0,
              "ticks": ""
             }
            },
            "type": "scattermap"
           }
          ],
          "scattermapbox": [
           {
            "marker": {
             "colorbar": {
              "outlinewidth": 0,
              "ticks": ""
             }
            },
            "type": "scattermapbox"
           }
          ],
          "scatterpolar": [
           {
            "marker": {
             "colorbar": {
              "outlinewidth": 0,
              "ticks": ""
             }
            },
            "type": "scatterpolar"
           }
          ],
          "scatterpolargl": [
           {
            "marker": {
             "colorbar": {
              "outlinewidth": 0,
              "ticks": ""
             }
            },
            "type": "scatterpolargl"
           }
          ],
          "scatterternary": [
           {
            "marker": {
             "colorbar": {
              "outlinewidth": 0,
              "ticks": ""
             }
            },
            "type": "scatterternary"
           }
          ],
          "surface": [
           {
            "colorbar": {
             "outlinewidth": 0,
             "ticks": ""
            },
            "colorscale": [
             [
              0,
              "#0d0887"
             ],
             [
              0.1111111111111111,
              "#46039f"
             ],
             [
              0.2222222222222222,
              "#7201a8"
             ],
             [
              0.3333333333333333,
              "#9c179e"
             ],
             [
              0.4444444444444444,
              "#bd3786"
             ],
             [
              0.5555555555555556,
              "#d8576b"
             ],
             [
              0.6666666666666666,
              "#ed7953"
             ],
             [
              0.7777777777777778,
              "#fb9f3a"
             ],
             [
              0.8888888888888888,
              "#fdca26"
             ],
             [
              1,
              "#f0f921"
             ]
            ],
            "type": "surface"
           }
          ],
          "table": [
           {
            "cells": {
             "fill": {
              "color": "#EBF0F8"
             },
             "line": {
              "color": "white"
             }
            },
            "header": {
             "fill": {
              "color": "#C8D4E3"
             },
             "line": {
              "color": "white"
             }
            },
            "type": "table"
           }
          ]
         },
         "layout": {
          "annotationdefaults": {
           "arrowcolor": "#2a3f5f",
           "arrowhead": 0,
           "arrowwidth": 1
          },
          "autotypenumbers": "strict",
          "coloraxis": {
           "colorbar": {
            "outlinewidth": 0,
            "ticks": ""
           }
          },
          "colorscale": {
           "diverging": [
            [
             0,
             "#8e0152"
            ],
            [
             0.1,
             "#c51b7d"
            ],
            [
             0.2,
             "#de77ae"
            ],
            [
             0.3,
             "#f1b6da"
            ],
            [
             0.4,
             "#fde0ef"
            ],
            [
             0.5,
             "#f7f7f7"
            ],
            [
             0.6,
             "#e6f5d0"
            ],
            [
             0.7,
             "#b8e186"
            ],
            [
             0.8,
             "#7fbc41"
            ],
            [
             0.9,
             "#4d9221"
            ],
            [
             1,
             "#276419"
            ]
           ],
           "sequential": [
            [
             0,
             "#0d0887"
            ],
            [
             0.1111111111111111,
             "#46039f"
            ],
            [
             0.2222222222222222,
             "#7201a8"
            ],
            [
             0.3333333333333333,
             "#9c179e"
            ],
            [
             0.4444444444444444,
             "#bd3786"
            ],
            [
             0.5555555555555556,
             "#d8576b"
            ],
            [
             0.6666666666666666,
             "#ed7953"
            ],
            [
             0.7777777777777778,
             "#fb9f3a"
            ],
            [
             0.8888888888888888,
             "#fdca26"
            ],
            [
             1,
             "#f0f921"
            ]
           ],
           "sequentialminus": [
            [
             0,
             "#0d0887"
            ],
            [
             0.1111111111111111,
             "#46039f"
            ],
            [
             0.2222222222222222,
             "#7201a8"
            ],
            [
             0.3333333333333333,
             "#9c179e"
            ],
            [
             0.4444444444444444,
             "#bd3786"
            ],
            [
             0.5555555555555556,
             "#d8576b"
            ],
            [
             0.6666666666666666,
             "#ed7953"
            ],
            [
             0.7777777777777778,
             "#fb9f3a"
            ],
            [
             0.8888888888888888,
             "#fdca26"
            ],
            [
             1,
             "#f0f921"
            ]
           ]
          },
          "colorway": [
           "#636efa",
           "#EF553B",
           "#00cc96",
           "#ab63fa",
           "#FFA15A",
           "#19d3f3",
           "#FF6692",
           "#B6E880",
           "#FF97FF",
           "#FECB52"
          ],
          "font": {
           "color": "#2a3f5f"
          },
          "geo": {
           "bgcolor": "white",
           "lakecolor": "white",
           "landcolor": "white",
           "showlakes": true,
           "showland": true,
           "subunitcolor": "#C8D4E3"
          },
          "hoverlabel": {
           "align": "left"
          },
          "hovermode": "closest",
          "mapbox": {
           "style": "light"
          },
          "paper_bgcolor": "white",
          "plot_bgcolor": "white",
          "polar": {
           "angularaxis": {
            "gridcolor": "#EBF0F8",
            "linecolor": "#EBF0F8",
            "ticks": ""
           },
           "bgcolor": "white",
           "radialaxis": {
            "gridcolor": "#EBF0F8",
            "linecolor": "#EBF0F8",
            "ticks": ""
           }
          },
          "scene": {
           "xaxis": {
            "backgroundcolor": "white",
            "gridcolor": "#DFE8F3",
            "gridwidth": 2,
            "linecolor": "#EBF0F8",
            "showbackground": true,
            "ticks": "",
            "zerolinecolor": "#EBF0F8"
           },
           "yaxis": {
            "backgroundcolor": "white",
            "gridcolor": "#DFE8F3",
            "gridwidth": 2,
            "linecolor": "#EBF0F8",
            "showbackground": true,
            "ticks": "",
            "zerolinecolor": "#EBF0F8"
           },
           "zaxis": {
            "backgroundcolor": "white",
            "gridcolor": "#DFE8F3",
            "gridwidth": 2,
            "linecolor": "#EBF0F8",
            "showbackground": true,
            "ticks": "",
            "zerolinecolor": "#EBF0F8"
           }
          },
          "shapedefaults": {
           "line": {
            "color": "#2a3f5f"
           }
          },
          "ternary": {
           "aaxis": {
            "gridcolor": "#DFE8F3",
            "linecolor": "#A2B1C6",
            "ticks": ""
           },
           "baxis": {
            "gridcolor": "#DFE8F3",
            "linecolor": "#A2B1C6",
            "ticks": ""
           },
           "bgcolor": "white",
           "caxis": {
            "gridcolor": "#DFE8F3",
            "linecolor": "#A2B1C6",
            "ticks": ""
           }
          },
          "title": {
           "x": 0.05
          },
          "xaxis": {
           "automargin": true,
           "gridcolor": "#EBF0F8",
           "linecolor": "#EBF0F8",
           "ticks": "",
           "title": {
            "standoff": 15
           },
           "zerolinecolor": "#EBF0F8",
           "zerolinewidth": 2
          },
          "yaxis": {
           "automargin": true,
           "gridcolor": "#EBF0F8",
           "linecolor": "#EBF0F8",
           "ticks": "",
           "title": {
            "standoff": 15
           },
           "zerolinecolor": "#EBF0F8",
           "zerolinewidth": 2
          }
         }
        },
        "title": {
         "text": "<b>🌱 CO₂ Emissions Ranking (kg)</b>"
        }
       }
      }
     },
     "metadata": {},
     "output_type": "display_data"
    }
   ],
   "source": [
    "from IPython.display import display, Markdown\n",
    "import warnings\n",
    "warnings.filterwarnings('ignore')\n",
    "\n",
    "# Create Stops_Category if not exists\n",
    "if 'Stops_Category' not in df.columns:\n",
    "    df['Stops_Category'] = df['Stops'].map({0: 'Direct', 1: '1 Stop', 2: '2+ Stops'})\n",
    "\n",
    "# Define color palette\n",
    "country_palette = px.colors.qualitative.Plotly\n",
    "\n",
    "# 1. Core Metrics Distribution by Country (Box Plots)\n",
    "fig = make_subplots(\n",
    "    rows=3, cols=1,\n",
    "    subplot_titles=('Flight Duration by Country (minutes)', \n",
    "                    'Price by Country (USD)', \n",
    "                    'CO₂ Emissions by Country (kg)'),\n",
    "    vertical_spacing=0.1\n",
    ")\n",
    "\n",
    "# Get top 10 countries by sample size\n",
    "top_countries = df['Country'].value_counts().index[:10]\n",
    "\n",
    "for i, metric in enumerate(['Flight Duration', 'Price', 'co2 emissions'], 1):\n",
    "    for country in top_countries:\n",
    "        fig.add_trace(go.Box(\n",
    "            y=df[df['Country'] == country][metric],\n",
    "            name=country,\n",
    "            marker_color=country_palette[list(top_countries).index(country) % len(country_palette)],\n",
    "            showlegend=(i==1)  # Only show legend for first subplot\n",
    "        ), row=i, col=1)\n",
    "\n",
    "fig.update_layout(\n",
    "    height=900,\n",
    "    title_text=\"<b>Core Metrics Distribution by Country</b>\",\n",
    "    title_x=0.5,\n",
    "    margin=dict(t=100, b=100)\n",
    ")\n",
    "fig.show()\n",
    "# 2. Correlation Matrix\n",
    "corr_matrix = df[['Price', 'Flight Duration', 'co2 emissions']].corr()\n",
    "\n",
    "corr_fig = go.Figure(data=go.Heatmap(\n",
    "    z=corr_matrix.values,\n",
    "    x=corr_matrix.columns,\n",
    "    y=corr_matrix.columns,\n",
    "    colorscale='RdBu',\n",
    "    zmin=-1,\n",
    "    zmax=1,\n",
    "    text=np.round(corr_matrix.values, 2),\n",
    "    texttemplate=\"%{text}\",\n",
    "    hoverinfo=\"x+y+z\"\n",
    "))\n",
    "\n",
    "corr_fig.update_layout(\n",
    "    title='<b>Correlation Matrix Between Key Metrics</b>',\n",
    "    xaxis_title=\"Metric\",\n",
    "    yaxis_title=\"Metric\",\n",
    "    height=400,\n",
    "    width=500,\n",
    "    margin=dict(t=100)\n",
    ")\n",
    "corr_fig.show()\n",
    "\n",
    "def create_ranking_figure(stats_df, title, value_suffix=''):\n",
    "    fig = go.Figure(data=[go.Table(\n",
    "        header=dict(\n",
    "            values=['<b>Country</b>', '<b>Average</b>', '<b>Minimum</b>', '<b>Maximum</b>'],\n",
    "            fill_color='paleturquoise',\n",
    "            align='center',\n",
    "            font=dict(size=14)\n",
    "        ),\n",
    "        cells=dict(\n",
    "            values=[stats_df.index, \n",
    "                   stats_df.iloc[:, 0].round(1).astype(str) + value_suffix,\n",
    "                   stats_df.iloc[:, 1].round(1).astype(str) + value_suffix,\n",
    "                   stats_df.iloc[:, 2].round(1).astype(str) + value_suffix],\n",
    "            fill_color='lavender',\n",
    "            align='center'\n",
    "        )\n",
    "    )])\n",
    "    \n",
    "    fig.update_layout(\n",
    "        title=f'<b>{title}</b>',\n",
    "        margin=dict(t=80, l=10, r=10, b=10),\n",
    "        height=400 + len(stats_df)*20\n",
    "    )\n",
    "    return fig\n",
    "\n",
    "# 1. Price Ranking Figure\n",
    "price_stats = df.groupby('Country')['Price'].agg(['mean', 'min', 'max'])\\\n",
    "               .sort_values('mean', ascending=False)\n",
    "price_fig = create_ranking_figure(price_stats, '💵 Flight Price Ranking (USD)', ' $')\n",
    "price_fig.show()\n",
    "\n",
    "# 2. Duration Ranking Figure\n",
    "duration_stats = df.groupby('Country')['Flight Duration'].agg(['mean', 'min', 'max'])\\\n",
    "                  .sort_values('mean', ascending=False)\n",
    "duration_fig = create_ranking_figure(duration_stats, '⏱️ Flight Duration Ranking (minutes)', ' min')\n",
    "duration_fig.show()\n",
    "\n",
    "# 3. Emissions Ranking Figure\n",
    "emission_stats = df.groupby('Country')['co2 emissions'].agg(['mean', 'min', 'max'])\\\n",
    "                   .sort_values('mean', ascending=False)\n",
    "emission_fig = create_ranking_figure(emission_stats, '🌱 CO₂ Emissions Ranking (kg)', ' kg')\n",
    "emission_fig.show()"
   ]
  },
  {
   "cell_type": "markdown",
   "id": "8fad2b06",
   "metadata": {},
   "source": [
    "Artifact 3: Trend and Temporal Analysis"
   ]
  },
  {
   "cell_type": "code",
   "execution_count": null,
   "id": "1d0c143e",
   "metadata": {},
   "outputs": [
    {
     "data": {
      "text/html": [
       "\n",
       "<style>\n",
       "    .widget-label {\n",
       "        font-weight: bold !important;\n",
       "        color: #2c3e50 !important;\n",
       "    }\n",
       "    .widget-dropdown, .widget-radio {\n",
       "        background: #f8f9fa !important;\n",
       "        border-radius: 8px !important;\n",
       "        padding: 8px !important;\n",
       "        border: 1px solid #dee2e6 !important;\n",
       "    }\n",
       "</style>\n"
      ],
      "text/plain": [
       "<IPython.core.display.HTML object>"
      ]
     },
     "metadata": {},
     "output_type": "display_data"
    },
    {
     "data": {
      "application/vnd.jupyter.widget-view+json": {
       "model_id": "d1a23ac21e5c4b319a9ba559f7eb5c97",
       "version_major": 2,
       "version_minor": 0
      },
      "text/plain": [
       "VBox(children=(HBox(children=(Dropdown(description='🌍 Country:', layout=Layout(width='400px'), options=('All C…"
      ]
     },
     "metadata": {},
     "output_type": "display_data"
    },
    {
     "data": {
      "application/vnd.jupyter.widget-view+json": {
       "model_id": "6bda42b9f8ae49cdbcbc1341ae0d102e",
       "version_major": 2,
       "version_minor": 0
      },
      "text/plain": [
       "Output()"
      ]
     },
     "execution_count": 14,
     "metadata": {},
     "output_type": "execute_result"
    }
   ],
   "source": [
    "# %% [markdown]\n",
    "### 🗓️ Interactive Daily Flight Price Trends\n",
    "\n",
    "# %%\n",
    "import plotly.express as px\n",
    "import plotly.graph_objects as go\n",
    "from ipywidgets import widgets, Layout\n",
    "from IPython.display import display, HTML\n",
    "\n",
    "# Custom CSS styling\n",
    "display(HTML(\"\"\"\n",
    "<style>\n",
    "    .widget-label {\n",
    "        font-weight: bold !important;\n",
    "        color: #2c3e50 !important;\n",
    "    }\n",
    "    .widget-dropdown, .widget-radio {\n",
    "        background: #f8f9fa !important;\n",
    "        border-radius: 8px !important;\n",
    "        padding: 8px !important;\n",
    "        border: 1px solid #dee2e6 !important;\n",
    "    }\n",
    "</style>\n",
    "\"\"\"))\n",
    "\n",
    "# Create control widgets with better styling\n",
    "country_dropdown = widgets.Dropdown(\n",
    "    options=['All Countries'] + sorted(df['Country'].unique()),\n",
    "    value='All Countries',\n",
    "    description='🌍 Country:',\n",
    "    layout=Layout(width='400px'),\n",
    "    style={'description_width': '100px'}\n",
    ")\n",
    "\n",
    "direction_radio = widgets.RadioButtons(\n",
    "    options=['Both Directions', 'From Taipei', 'To Taipei'],\n",
    "    value='Both Directions',\n",
    "    description='✈️ Direction:',\n",
    "    layout=Layout(width='400px'),\n",
    "    style={'description_width': '100px'}\n",
    ")\n",
    "\n",
    "# Create the visualization function with enhanced styling\n",
    "def plot_daily_prices(country, direction):\n",
    "    # Filter data based on selections\n",
    "    filtered_df = df.copy()\n",
    "    \n",
    "    if country != 'All Countries':\n",
    "        filtered_df = filtered_df[filtered_df['Country'] == country]\n",
    "    \n",
    "    if direction == 'From Taipei':\n",
    "        filtered_df = filtered_df[filtered_df['From'] == 'TPE']\n",
    "    elif direction == 'To Taipei':\n",
    "        filtered_df = filtered_df[filtered_df['To'] == 'TPE']\n",
    "    \n",
    "    # Create the figure with enhanced styling\n",
    "    fig = go.Figure()\n",
    "    \n",
    "    # Add each route as a separate trace for better control\n",
    "    for route in filtered_df['Route'].unique():\n",
    "        route_df = filtered_df[filtered_df['Route'] == route]\n",
    "        fig.add_trace(go.Scatter(\n",
    "            x=route_df['Date'],\n",
    "            y=route_df['Price'],\n",
    "            name=route,\n",
    "            mode='lines',\n",
    "            line_shape='spline',\n",
    "            line=dict(width=2.5),\n",
    "            hovertemplate=(\n",
    "                \"<b>%{x|%b %d}</b><br>\" +\n",
    "                \"Route: %{fullData.name}<br>\" +\n",
    "                \"Price: $%{y:,.0f}<extra></extra>\"\n",
    "            )\n",
    "        ))\n",
    "    \n",
    "    # Update layout for professional look\n",
    "    fig.update_layout(\n",
    "        title=dict(\n",
    "            text=\"<b>✈️ Daily Flight Price Trends</b>\",\n",
    "            x=0.05,\n",
    "            xanchor='left',\n",
    "            font=dict(size=22, color='#2c3e50')\n",
    "        ),\n",
    "        plot_bgcolor='rgba(248,249,250,1)',\n",
    "        paper_bgcolor='rgba(248,249,250,1)',\n",
    "        hovermode='x unified',\n",
    "        xaxis=dict(\n",
    "            showgrid=True,\n",
    "    gridcolor='rgba(222,226,230,0.7)',\n",
    "    tickformat='%b %d',\n",
    "    rangeslider=dict(\n",
    "        visible=True,\n",
    "        thickness=0.08,\n",
    "        bgcolor='rgba(222,226,230,0.4)',\n",
    "        bordercolor='#dee2e6',\n",
    "        borderwidth=1\n",
    "    ),\n",
    "    rangeselector=dict(\n",
    "        bgcolor='rgba(255,255,255,0.8)',\n",
    "        bordercolor='#dee2e6',\n",
    "        borderwidth=1,\n",
    "        font=dict(color='#495057'),\n",
    "        buttons=list([\n",
    "            dict(\n",
    "                count=7,\n",
    "                label='1 Week',\n",
    "                step='day',\n",
    "                stepmode='backward'\n",
    "            ),\n",
    "            dict(\n",
    "                count=14,\n",
    "                label='2 Weeks',\n",
    "                step='day',\n",
    "                stepmode='backward'\n",
    "            ),\n",
    "            dict(\n",
    "                count=1,\n",
    "                label='1 Month',\n",
    "                step='month',\n",
    "                stepmode='backward'\n",
    "            ),\n",
    "            dict(\n",
    "                label='Full Range',\n",
    "                step='all'\n",
    "            )\n",
    "        ])\n",
    "    )\n",
    "        ),\n",
    "        yaxis=dict(\n",
    "            showgrid=True,\n",
    "            gridcolor='rgba(222,226,230,0.7)',\n",
    "            tickprefix='$',\n",
    "            title='Price (USD)'\n",
    "        ),\n",
    "        font=dict(\n",
    "            family='Arial',\n",
    "            size=12,\n",
    "            color='#495057'\n",
    "        ),\n",
    "        margin=dict(l=80, r=40, t=100, b=80),\n",
    "        legend=dict(\n",
    "            orientation='h',\n",
    "            yanchor='bottom',\n",
    "            y=-0.3,\n",
    "            xanchor='center',\n",
    "            x=0.5\n",
    "        ),\n",
    "        height=650\n",
    "    )\n",
    "    \n",
    "    # Add watermark\n",
    "    fig.add_annotation(\n",
    "        x=1, y=-0.25,\n",
    "        xref='paper', yref='paper',\n",
    "        text=\"✈️ Flight Data Analysis | Source: Clean.csv\",\n",
    "        showarrow=False,\n",
    "        font=dict(size=10, color='#adb5bd')\n",
    "    )\n",
    "    \n",
    "    # Add interactive features\n",
    "    fig.update_traces(\n",
    "        hoverlabel=dict(\n",
    "            bgcolor='white',\n",
    "            font_size=12,\n",
    "            font_family=\"Arial\"\n",
    "        )\n",
    "    )\n",
    "    \n",
    "    fig.show()\n",
    "\n",
    "# Create interactive widget with better layout\n",
    "controls = widgets.VBox([\n",
    "    widgets.HBox([country_dropdown, direction_radio]),\n",
    "], layout=Layout(\n",
    "    padding='20px',\n",
    "    border='1px solid #dee2e6',\n",
    "    border_radius='12px',\n",
    "    margin='0 0 20px 0'\n",
    "))\n",
    "\n",
    "# Display the controls and visualization\n",
    "display(controls)\n",
    "widgets.interactive_output(\n",
    "    plot_daily_prices,\n",
    "    {'country': country_dropdown, 'direction': direction_radio}\n",
    ")"
   ]
  },
  {
   "cell_type": "markdown",
   "id": "0891b3d6",
   "metadata": {},
   "source": [
    "Artifact 4: Correlation and Relationship Insights"
   ]
  },
  {
   "cell_type": "code",
   "execution_count": 19,
   "id": "d95201fe",
   "metadata": {},
   "outputs": [
    {
     "data": {
      "application/vnd.jupyter.widget-view+json": {
       "model_id": "b9f59359a45f47fdb11c406d11dc21e6",
       "version_major": 2,
       "version_minor": 0
      },
      "text/plain": [
       "VBox(children=(HBox(children=(Dropdown(description='🌍 Select Country:', layout=Layout(width='400px'), options=…"
      ]
     },
     "metadata": {},
     "output_type": "display_data"
    },
    {
     "data": {
      "application/vnd.jupyter.widget-view+json": {
       "model_id": "5fb4744eec0949ac96d0735ce5c4fcb7",
       "version_major": 2,
       "version_minor": 0
      },
      "text/plain": [
       "Output()"
      ]
     },
     "execution_count": 19,
     "metadata": {},
     "output_type": "execute_result"
    }
   ],
   "source": [
    "# %% [markdown]\n",
    "### 🌍 Geographic Route Comparison with Metrics\n",
    "\n",
    "# %%\n",
    "import plotly.graph_objects as go\n",
    "import pandas as pd\n",
    "from ipywidgets import widgets, Layout, Output\n",
    "from IPython.display import display, clear_output\n",
    "\n",
    "# Prepare data - calculate averages\n",
    "route_stats = df.groupby(['From', 'To', 'Country']).agg({\n",
    "    'Price': 'mean',\n",
    "    'Flight Duration': 'mean',\n",
    "    'co2 emissions': 'mean'\n",
    "}).reset_index()\n",
    "\n",
    "# Get coordinates for each city (replace with your actual coordinates)\n",
    "city_coords = {\n",
    "    'TPE': {'lat': 25.0330, 'lon': 121.5654, 'name': 'Taipei'},\n",
    "    'BKK': {'lat': 13.7563, 'lon': 100.5018, 'name': 'Bangkok'},\n",
    "    'CAI': {'lat': 30.0444, 'lon': 31.2357, 'name': 'Cairo'},\n",
    "    'FRA': {'lat': 50.1109, 'lon': 8.6821, 'name': 'Frankfurt'},\n",
    "    'HKG': {'lat': 22.3193, 'lon': 114.1694, 'name': 'Hong Kong'},\n",
    "    'ICN': {'lat': 37.4602, 'lon': 126.4407, 'name': 'Seoul'},\n",
    "    'KUL': {'lat': 3.1390, 'lon': 101.6869, 'name': 'Kuala Lumpur'},\n",
    "    'LAX': {'lat': 34.0522, 'lon': -118.2437, 'name': 'Los Angeles'},\n",
    "    'NRT': {'lat': 35.7647, 'lon': 140.3865, 'name': 'Tokyo'},\n",
    "    'SGN': {'lat': 10.8231, 'lon': 106.6297, 'name': 'Ho Chi Minh City'},\n",
    "    'SYD': {'lat': -33.8688, 'lon': 151.2093, 'name': 'Sydney'}\n",
    "}\n",
    "\n",
    "# Create widgets\n",
    "country_dropdown = widgets.Dropdown(\n",
    "    options=['All Countries'] + sorted(df['Country'].unique()),\n",
    "    value='All Countries',\n",
    "    description='🌍 Select Country:',\n",
    "    layout=Layout(width='400px'),\n",
    "    style={'description_width': '120px'}\n",
    ")\n",
    "\n",
    "# Create output area for metrics\n",
    "metrics_output = Output()\n",
    "\n",
    "# Create visualization function\n",
    "def plot_geo_routes(country):\n",
    "    with metrics_output:\n",
    "        clear_output(wait=True)\n",
    "        \n",
    "        fig = go.Figure()\n",
    "        \n",
    "        # Filter data based on selection\n",
    "        if country == 'All Countries':\n",
    "            filtered_df = route_stats[route_stats['To'] == 'TPE']  # All flights to Taipei\n",
    "            display(HTML(\"<h3 style='color:#2C3E50'>Global Routes to Taipei</h3>\"))\n",
    "        else:\n",
    "            filtered_df = route_stats[\n",
    "            ((route_stats['From'] == 'TPE') | (route_stats['To'] == 'TPE')) &\n",
    "\n",
    "            (route_stats['Country'] == country)\n",
    "            ]\n",
    "            \n",
    "            # Calculate and display metrics\n",
    "            to_tpe = filtered_df[filtered_df['To'] == 'TPE']\n",
    "            from_tpe = filtered_df[filtered_df['From'] == 'TPE']\n",
    "            \n",
    "            if not to_tpe.empty:\n",
    "                avg_price_to = to_tpe['Price'].mean()\n",
    "                avg_duration_to = to_tpe['Flight Duration'].mean()\n",
    "                avg_co2_to = to_tpe['co2 emissions'].mean()\n",
    "            else:\n",
    "                avg_price_to = avg_duration_to = avg_co2_to = 0\n",
    "                \n",
    "            if not from_tpe.empty:\n",
    "                avg_price_from = from_tpe['Price'].mean()\n",
    "                avg_duration_from = from_tpe['Flight Duration'].mean()\n",
    "                avg_co2_from = from_tpe['co2 emissions'].mean()\n",
    "            else:\n",
    "                avg_price_from = avg_duration_from = avg_co2_from = 0\n",
    "            \n",
    "            # Create metrics display\n",
    "            metrics_html = f\"\"\"\n",
    "            <div style=\"background:#f8f9fa; padding:15px; border-radius:8px; margin-bottom:15px\">\n",
    "                <h3 style='color:#2C3E50; margin-top:0'>Metrics for {country}</h3>\n",
    "                <div style=\"display:flex; justify-content:space-between\">\n",
    "                    <div style=\"width:48%; background:white; padding:10px; border-radius:6px; box-shadow:0 2px 4px rgba(0,0,0,0.1)\">\n",
    "                        <h4 style='color:#FF6B6B; margin-top:0'>To Taipei</h4>\n",
    "                        <p>✈️ Avg Price: <b>${avg_price_to:,.0f}</b></p>\n",
    "                        <p>⏱️ Avg Duration: <b>{avg_duration_to:,.0f} min</b></p>\n",
    "                        <p>🌱 Avg CO₂: <b>{avg_co2_to:,.0f} kg</b></p>\n",
    "                    </div>\n",
    "                    <div style=\"width:48%; background:white; padding:10px; border-radius:6px; box-shadow:0 2px 4px rgba(0,0,0,0.1)\">\n",
    "                        <h4 style='color:#4ECDC4; margin-top:0'>From Taipei</h4>\n",
    "                        <p>✈️ Avg Price: <b>${avg_price_from:,.0f}</b></p>\n",
    "                        <p>⏱️ Avg Duration: <b>{avg_duration_from:,.0f} min</b></p>\n",
    "                        <p>🌱 Avg CO₂: <b>{avg_co2_from:,.0f} kg</b></p>\n",
    "                    </div>\n",
    "                </div>\n",
    "            </div>\n",
    "            \"\"\"\n",
    "            display(HTML(metrics_html))\n",
    "        \n",
    "        # Add routes to the figure\n",
    "        for _, row in filtered_df.iterrows():\n",
    "            from_city = row['From']\n",
    "            to_city = row['To']\n",
    "            \n",
    "            # Get coordinates\n",
    "            start_lon = city_coords[from_city]['lon']\n",
    "            start_lat = city_coords[from_city]['lat']\n",
    "            end_lon = city_coords[to_city]['lon']\n",
    "            end_lat = city_coords[to_city]['lat']\n",
    "            \n",
    "            # Color based on direction\n",
    "            line_color = '#FF6B6B' if to_city == 'TPE' else '#4ECDC4'\n",
    "            line_width = 3 if country != 'All Countries' else 2\n",
    "            \n",
    "            # Add route line\n",
    "            fig.add_trace(go.Scattergeo(\n",
    "                lon = [start_lon, end_lon],\n",
    "                lat = [start_lat, end_lat],\n",
    "                mode = 'lines',\n",
    "                line = dict(width=line_width, color=line_color),\n",
    "                name = f\"{city_coords[from_city]['name']} ↔ {city_coords[to_city]['name']}\",\n",
    "                hoverinfo = 'text',\n",
    "                hovertext = (\n",
    "                    f\"<b>Route:</b> {from_city} → {to_city}<br>\"\n",
    "                    f\"<b>Avg Price:</b> ${row['Price']:,.0f}<br>\"\n",
    "                    f\"<b>Avg Duration:</b> {row['Flight Duration']:,.0f} min<br>\"\n",
    "                    f\"<b>Avg CO₂:</b> {row['co2 emissions']:,.0f} kg\"\n",
    "                )\n",
    "            ))\n",
    "        \n",
    "        # Add city markers\n",
    "        for city, coords in city_coords.items():\n",
    "            fig.add_trace(go.Scattergeo(\n",
    "                lon = [coords['lon']],\n",
    "                lat = [coords['lat']],\n",
    "                mode = 'markers+text',\n",
    "                marker = dict(size=10, color='#2C3E50'),\n",
    "                text = coords['name'],\n",
    "                textposition = 'top center',\n",
    "                hoverinfo = 'none',\n",
    "                showlegend = False\n",
    "            ))\n",
    "        \n",
    "        # Update layout for globe view\n",
    "        fig.update_layout(\n",
    "            geo = dict(\n",
    "                projection_type = 'orthographic',\n",
    "                showland = True,\n",
    "                landcolor = 'rgb(243, 243, 243)',\n",
    "                countrycolor = 'rgb(204, 204, 204)',\n",
    "                showocean = True,\n",
    "                oceancolor = 'rgb(222, 243, 246)',\n",
    "                showcountries = True,\n",
    "                showframe = False,\n",
    "                center = dict(lon=121, lat=25),  # Focus on Taiwan\n",
    "                lataxis_range = [-60, 80],  # Limit polar regions\n",
    "                lonaxis_range = [-180, 180]\n",
    "            ),\n",
    "            height = 600,\n",
    "            margin = dict(l=0, r=0, t=0, b=0),\n",
    "            plot_bgcolor = 'rgba(248,249,250,1)',\n",
    "            paper_bgcolor = 'rgba(248,249,250,1)',\n",
    "            legend = dict(\n",
    "                orientation='h',\n",
    "                yanchor='bottom',\n",
    "                y=-0.1,\n",
    "                xanchor='center',\n",
    "                x=0.5\n",
    "            )\n",
    "        )\n",
    "        \n",
    "        fig.show()\n",
    "\n",
    "# Create interactive widget\n",
    "controls = widgets.VBox([\n",
    "    widgets.HBox([country_dropdown]),\n",
    "    metrics_output\n",
    "], layout=Layout(\n",
    "    padding='20px',\n",
    "    border='1px solid #dee2e6',\n",
    "    border_radius='12px',\n",
    "    margin='0 0 20px 0'\n",
    "))\n",
    "\n",
    "# Display the controls and visualization\n",
    "display(controls)\n",
    "widgets.interactive_output(plot_geo_routes, {'country': country_dropdown})"
   ]
  },
  {
   "cell_type": "markdown",
   "id": "daa241db",
   "metadata": {},
   "source": [
    "Artifact 5: Route-Based Comparisons"
   ]
  },
  {
   "cell_type": "code",
   "execution_count": null,
   "id": "734da657",
   "metadata": {},
   "outputs": [
    {
     "data": {
      "application/vnd.jupyter.widget-view+json": {
       "model_id": "ed0ea862bc614e19a48cd43d178ca9be",
       "version_major": 2,
       "version_minor": 0
      },
      "text/plain": [
       "VBox(children=(HBox(children=(RadioButtons(description='Metric:', layout=Layout(width='200px'), options=('Pric…"
      ]
     },
     "metadata": {},
     "output_type": "display_data"
    },
    {
     "data": {
      "application/vnd.jupyter.widget-view+json": {
       "model_id": "cbfe4290aa1d459dbfe6d0a90a8a678b",
       "version_major": 2,
       "version_minor": 0
      },
      "text/plain": [
       "VBox(children=(HBox(children=(RadioButtons(description='Direction:', layout=Layout(width='200px'), options=('F…"
      ]
     },
     "metadata": {},
     "output_type": "display_data"
    },
    {
     "data": {
      "application/vnd.plotly.v1+json": {
       "config": {
        "plotlyServerURL": "https://plot.ly"
       },
       "data": [
        {
         "alignmentgroup": "True",
         "boxpoints": "all",
         "hovertemplate": "Stops_Category=Direct<br>Number of Stops=%{x}<br>Duration (minutes)=%{y}<extra></extra>",
         "legendgroup": "Direct",
         "marker": {
          "color": "#636efa"
         },
         "name": "Direct",
         "notched": false,
         "offsetgroup": "Direct",
         "orientation": "v",
         "showlegend": true,
         "type": "box",
         "x": {
          "bdata": "AAAAAAAAAAAAAAAAAAAAAAAAAAAAAAAAAAAAAAAAAAAAAAAAAAAAAAAAAAAAAAAAAAAAAAAAAAAAAAAAAAAAAAAAAAAAAAAAAAAAAAAAAAAAAAAAAAAAAAAAAAAAAAAAAAAAAAAAAAAAAAAAAAAAAAAAAAAAAAAAAAAAAAAAAAAAAAAAAAAAAAAAAAAAAAAAAAAAAAAAAAAAAAAAAAAAAAAAAAAAAAAAAAAAAAAAAAAAAAAAAAAAAAAAAAAAAAAAAAAAAAAAAAAAAAAAAAAAAAAAAAAAAAAAAAAAAAAAAAAAAAAAAAAAAAAAAAAAAAAAAAAAAAAAAAAAAAAAAAAAAAAAAAAAAAAAAAAAAAAAAAAAAAAAAAAAAAAAAAAAAAAAAAAAAAAAAAAAAAAAAAAAAAAAAAAAAAAAAAAAAAAAAAAAAAAAAAAAAAAAAAAAAAAAAAAAAAAAAAAAAAAAAAAAAAAAAAAAAAAAAAAAAAAAAAAAAAAAAAAAAAAAAAAAAAAAAAAAAAAAAAAAAAAAAAAAAAAAAAAAAAAAAAAAAAAAAAAAAAAAAAAAAAAAAAAAAAAAAAAAAAAAAAAAAAAAAAAAAAAAAAAAAAAAAAAAAAAAAAAAAAAAAAAAAAAAAAAAAAAAAAAAAAAAAAAAAAAAAAAAAAAAAAAAAAAAAAAAAAAAAAAAAAAAAAAAAAAAAAAAAAAAAAAAAAAAAAAAAAAAAAAAAAAAAAAAAAAAAAAAAAAAAAAAAAAAAAAAAAAAAAAAAAAAAAAAAAAAAAAAAAAAAAAAAAAAAAAAAAAAAAAAAAAAAAAAAAAAAAAAAAAAAAAAAAAAAAAAAAAAAAAAAAAAAAAAAAAAAAAAAAAAAAAAAAAAAAAAAAAAAAAAAAAAAAAAAAAAAAAAAAAAAAAAAAAAAAAAAAAAAAAAAAAAAAAAAAAAAAAAAAAAAAAAAAAAAAAAAAAAAAAAAAAAAAAAAAAAAAAAAAAAAAAAAAAAAAAAAAAAAAAAAAAAAAAAAAAAAAAAAAAAAAAAAAAAAAAAAAAAAAAAAAAAAAAAAAAAAAAAAAAAAAAAAAAAAAAAAAAAAAAAAAAAAAAAAAAAAAAAAAAAAAAAAAAAAAAAAAAAAAAAAAAAAAAAAAAAAAAAAAAAAAAAAAAAAAAAAAAAAAAAAAAAAAAAAAAAAAAAAAAAAAAAAAAAAAAAAAAAAAAAAAAAAAAAAAAAAAAAAAAAAAAAAAAAAAAAAAAAAAAAAAAAAAAAAAAAAAAAAAAAAAAAAAAAAAAAAAAAAAAAAAAAAAAAAAAAAAAAAAAAAAAAAAAAAAAAAAAAAAAAAAAAAAAAAAAAAAAAAAAAAAAAAAAAAAAAAAAAAAAAAAAAAAAAAAAAAAAAAAAAAAAAAAAAAAAAAAAAAAAAAAAAAAAAAAAAAAAAAAAAAAAAAA==",
          "dtype": "i1"
         },
         "x0": " ",
         "xaxis": "x",
         "y": {
          "bdata": "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",
          "dtype": "i2"
         },
         "y0": " ",
         "yaxis": "y"
        },
        {
         "alignmentgroup": "True",
         "boxpoints": "all",
         "hovertemplate": "Stops_Category=1 Stop<br>Number of Stops=%{x}<br>Duration (minutes)=%{y}<extra></extra>",
         "legendgroup": "1 Stop",
         "marker": {
          "color": "#EF553B"
         },
         "name": "1 Stop",
         "notched": false,
         "offsetgroup": "1 Stop",
         "orientation": "v",
         "showlegend": true,
         "type": "box",
         "x": {
          "bdata": "AQEBAQEBAQEBAQEBAQEBAQEBAQEBAQEBAQEBAQEBAQEBAQEBAQEBAQEBAQEBAQEBAQEBAQEBAQEBAQEBAQEBAQEBAQEBAQEBAQEBAQEBAQEBAQEBAQEBAQEBAQEBAQEBAQEBAQEBAQEBAQEBAQEBAQEBAQEBAQEBAQEBAQEBAQEBAQEBAQEBAQEBAQEBAQEBAQEBAQEBAQEBAQEBAQEBAQEBAQEBAQEBAQEBAQEBAQEBAQEBAQEBAQEBAQEBAQEBAQEBAQEBAQEBAQEBAQEBAQEBAQEBAQEBAQEBAQEBAQEBAQEBAQEBAQEBAQEBAQEBAQEBAQEBAQEBAQEBAQEBAQEBAQEBAQEBAQEBAQEBAQEBAQEBAQEBAQEBAQEBAQEBAQEBAQEBAQEBAQEBAQEBAQEBAQEBAQEBAQEBAQEBAQEBAQEBAQEBAQEBAQEBAQEBAQEBAQEBAQEBAQEBAQEBAQEBAQEBAQEBAQEBAQEBAQEBAQEBAQEBAQEBAQEBAQEBAQEBAQEBAQEBAQEBAQEBAQEBAQEBAQEBAQEBAQEBAQEBAQEBAQEBAQEBAQEBAQEBAQEBAQEBAQEBAQEBAQEBAQEBAQEBAQEBAQEBAQEBAQEBAQEBAQEBAQEBAQEBAQEBAQEBAQEBAQEBAQEBAQEBAQEBAQEBAQEBAQEBAQEBAQEBAQEBAQEBAQEBAQEBAQEBAQEBAQEBAQEBAQEBAQEBAQEBAQEBAQEBAQEBAQEBAQEBAQEBAQEBAQEBAQEBAQEBAQEBAQEBAQEBAQEBAQEBAQEBAQEBAQEBAQEBAQEBAQEBAQEBAQEBAQEBAQEBAQEBAQEBAQEBAQEBAQEBAQEBAQEBAQEBAQEBAQEBAQEBAQEBAQEBAQEBAQEBAQEBAQEBAQEBAQEBAQEBAQEBAQEBAQEBAQEBAQEBAQEBAQEBAQEBAQEBAQEBAQEBAQEBAQEBAQEBAQEBAQEBAQEBAQEBAQEBAQEBAQEBAQE=",
          "dtype": "i1"
         },
         "x0": " ",
         "xaxis": "x",
         "y": {
          "bdata": "eQR5BG8EbwRvBG8EbwRvBG8EbwRvBG8EbwQyBW8EbwRvBG8EbwRvBG8EMgUyBTIFbwRvBG8EbwQyBTIFMgUyBW8EMgVvBDIFbwQyBW8EbwQyBW8EbwRvBG8EMgUyBW8EbwRvBG8EbwRvBG8EbwRvBG8EMgVvBG8EbwRvBG8EMgVvBG8EbwRvBG8EbwRvBG8EbwRvBG8EDASSBNQD1APUA9QDkgTUA9QD1AMzBDMEMwTUAzMEMwTUA9QD1AMzBDMEMwQzBDMEMwQzBNQD1AMzBNQDegPUA9QD1AN0BNQD1AOSBJIEkgTUA9QDdATUA/wD/AMzBJIEkgQzBNQDMwSSBPwDegPUA9QD/AP8A9QD1APUA3QEMwSSBPwD1APUA9QD1APUA9QD1APUA9QD1APUA9QD1APUA9QD1APUA3oD1APUA9QD1APUA9QDFQTUA3oD3gPRAdEB0QHRAdEB0QHRAdEB0QGzAbMBdgKzAdEB0QHCAdEBwgFTAtEBqQHRAcIBqQGEBFMHFQQjBZ0DGQWdAxkF/AOdAyMFnQOrBGAEGQUkBLgHnQOdA00DTQNNAw8EUQTsBCMF7AQABfwDIwUjBQsECwT8AwsECwT8A/wD/AP8AwsECwT8A/wDJQP8AyUDGwMlA/wDGwMlAxsDJQMLBCUDGwM/ByUDGQXsBAsECwQLBPwDCwQBBKcDpwOnA6cDpwNwBHAEfgTYBLEDzgTNBc0FzQUjBW8EfgRvBFsEzQVvBG8EzQWxA7EDsQOxA7EDIwWxA7EDsQOxA7EDsQMjBfwDoQSxA7EDsQPNBSMFbwQjBX4EfgTNBW8EbwRvBH4EfgR+BG8EbwR+BG8EfgR+BH4EbwRvBH4EbwR+BNcFfgRvBG8EbwRvBH4EbwR+BG8EbwR+BG8EfgTXBX4EbwT8A34EbwR+BG8EfgRvBG8EfgRvBH4EbwT8A28EDAUmBKgDbQTcBQwFJgSoA6cDAQRlBEYFwAMBBNACRgXZA9ME0AJGBboEAQRMBMAD0wRMBEYFLgQpBAEETASIBNwFBgQVBEwEpwOjAtME0AJGBfsEHAIVBNACRgXZAwsETAR+BG4FAQRMBEYFpwMVBEwERgUuBAEETASIBNkDFQRMBIgEpwPTBNAC3AUBBEwEHAKIBNkDAQRMBE4CRgVuBQEE0ALqAYgEpwMBBGUEiAR9BRUE0AKIBNkDAQTQAogEpwMBBNAC4wPcBQEE0AIcAogE2QMBBNACTgJ+BG4FFQTQAogEwAMVBEwEwgFGBfsEFQRlBKMCiATZAxUE3gNOAogE+wTTBN4DowJGBfsEAQRMBE4CiAT7BAsEZQQpBH4EbgUBBEwETgKIBPsEFQTeA8IBiAQuBAEETAQcAkYFbgUABd4DTgKIBKcDAQTzAhwCRgWnAwEE8wIcAogE2QMBBPMCTgJ+BPsEAQRMBIgE+wQBBN4DiAT7BAEE3gOIBNkDAQTeA4gE+wQBBN4DRgX7BAEEZQRGBfsEAQRlBLgBfgT7BAEETASIBN4D+wQBBEYFZQT7BAEEiATeA/sEAQSIBO4CAQQBBEYFZQT7BAEEHAJGBUwE2QMBBH4ETAQBBAEEiARlBPsEFQRGBWUE7QMBBIgETAT7BAEEiATeA/sEAQRGBUwE+wQBBEYF3gP7BAEEfgRuBQEETASIBCkEFQRMBEYFLgQVBEwEiAQBBAEETASIBCkEAQTeA0YFpwMBBN4DiAT7BBUETAR+BG4FAQRlBIgEpwMVBEwEiATtAwEETASIBPsEFQRMBIgEKQQBBEwERgX7BAEETASIBCkECwRMBH4EAQQBBPMCiASnAwEETARGBe0DFQTzAogE2QMBBEwEiAQpBAEE8wJGBacD8wKIBAEEKQQVBPMCfgQBBPMCiAQBBCkEAQTzAogE7QMVBPMCiATZA0wEiAQBBCkEAQTzAkYF+wQBBPMCiAT7BAEE8wJ+BPsEAQTzAogE+wQBBEwEiAT7BAEE8wKIBA==",
          "dtype": "i2"
         },
         "y0": " ",
         "yaxis": "y"
        },
        {
         "alignmentgroup": "True",
         "boxpoints": "all",
         "hovertemplate": "Stops_Category=2+ Stops<br>Number of Stops=%{x}<br>Duration (minutes)=%{y}<extra></extra>",
         "legendgroup": "2+ Stops",
         "marker": {
          "color": "#00cc96"
         },
         "name": "2+ Stops",
         "notched": false,
         "offsetgroup": "2+ Stops",
         "orientation": "v",
         "showlegend": true,
         "type": "box",
         "x": {
          "bdata": "AgICAgICAgICAgICAgICAgICAgICAg==",
          "dtype": "i1"
         },
         "x0": " ",
         "xaxis": "x",
         "y": {
          "bdata": "yAXIBRoEGgQaBBoEGgQaBBoE9gT2BCgFKAUoBSgFKAUoBcAEwATmBQ8FWgo=",
          "dtype": "i2"
         },
         "y0": " ",
         "yaxis": "y"
        }
       ],
       "layout": {
        "annotations": [
         {
          "font": {
           "color": "gray",
           "size": 12
          },
          "showarrow": false,
          "text": "<i>Trend: More stops generally increase total duration</i>",
          "x": 0.5,
          "xref": "paper",
          "y": 0.9,
          "yref": "paper"
         }
        ],
        "boxmode": "group",
        "height": 500,
        "legend": {
         "title": {
          "text": "Stops_Category"
         },
         "tracegroupgap": 0
        },
        "paper_bgcolor": "white",
        "plot_bgcolor": "white",
        "showlegend": false,
        "template": {
         "data": {
          "bar": [
           {
            "error_x": {
             "color": "#2a3f5f"
            },
            "error_y": {
             "color": "#2a3f5f"
            },
            "marker": {
             "line": {
              "color": "white",
              "width": 0.5
             },
             "pattern": {
              "fillmode": "overlay",
              "size": 10,
              "solidity": 0.2
             }
            },
            "type": "bar"
           }
          ],
          "barpolar": [
           {
            "marker": {
             "line": {
              "color": "white",
              "width": 0.5
             },
             "pattern": {
              "fillmode": "overlay",
              "size": 10,
              "solidity": 0.2
             }
            },
            "type": "barpolar"
           }
          ],
          "carpet": [
           {
            "aaxis": {
             "endlinecolor": "#2a3f5f",
             "gridcolor": "#C8D4E3",
             "linecolor": "#C8D4E3",
             "minorgridcolor": "#C8D4E3",
             "startlinecolor": "#2a3f5f"
            },
            "baxis": {
             "endlinecolor": "#2a3f5f",
             "gridcolor": "#C8D4E3",
             "linecolor": "#C8D4E3",
             "minorgridcolor": "#C8D4E3",
             "startlinecolor": "#2a3f5f"
            },
            "type": "carpet"
           }
          ],
          "choropleth": [
           {
            "colorbar": {
             "outlinewidth": 0,
             "ticks": ""
            },
            "type": "choropleth"
           }
          ],
          "contour": [
           {
            "colorbar": {
             "outlinewidth": 0,
             "ticks": ""
            },
            "colorscale": [
             [
              0,
              "#0d0887"
             ],
             [
              0.1111111111111111,
              "#46039f"
             ],
             [
              0.2222222222222222,
              "#7201a8"
             ],
             [
              0.3333333333333333,
              "#9c179e"
             ],
             [
              0.4444444444444444,
              "#bd3786"
             ],
             [
              0.5555555555555556,
              "#d8576b"
             ],
             [
              0.6666666666666666,
              "#ed7953"
             ],
             [
              0.7777777777777778,
              "#fb9f3a"
             ],
             [
              0.8888888888888888,
              "#fdca26"
             ],
             [
              1,
              "#f0f921"
             ]
            ],
            "type": "contour"
           }
          ],
          "contourcarpet": [
           {
            "colorbar": {
             "outlinewidth": 0,
             "ticks": ""
            },
            "type": "contourcarpet"
           }
          ],
          "heatmap": [
           {
            "colorbar": {
             "outlinewidth": 0,
             "ticks": ""
            },
            "colorscale": [
             [
              0,
              "#0d0887"
             ],
             [
              0.1111111111111111,
              "#46039f"
             ],
             [
              0.2222222222222222,
              "#7201a8"
             ],
             [
              0.3333333333333333,
              "#9c179e"
             ],
             [
              0.4444444444444444,
              "#bd3786"
             ],
             [
              0.5555555555555556,
              "#d8576b"
             ],
             [
              0.6666666666666666,
              "#ed7953"
             ],
             [
              0.7777777777777778,
              "#fb9f3a"
             ],
             [
              0.8888888888888888,
              "#fdca26"
             ],
             [
              1,
              "#f0f921"
             ]
            ],
            "type": "heatmap"
           }
          ],
          "histogram": [
           {
            "marker": {
             "pattern": {
              "fillmode": "overlay",
              "size": 10,
              "solidity": 0.2
             }
            },
            "type": "histogram"
           }
          ],
          "histogram2d": [
           {
            "colorbar": {
             "outlinewidth": 0,
             "ticks": ""
            },
            "colorscale": [
             [
              0,
              "#0d0887"
             ],
             [
              0.1111111111111111,
              "#46039f"
             ],
             [
              0.2222222222222222,
              "#7201a8"
             ],
             [
              0.3333333333333333,
              "#9c179e"
             ],
             [
              0.4444444444444444,
              "#bd3786"
             ],
             [
              0.5555555555555556,
              "#d8576b"
             ],
             [
              0.6666666666666666,
              "#ed7953"
             ],
             [
              0.7777777777777778,
              "#fb9f3a"
             ],
             [
              0.8888888888888888,
              "#fdca26"
             ],
             [
              1,
              "#f0f921"
             ]
            ],
            "type": "histogram2d"
           }
          ],
          "histogram2dcontour": [
           {
            "colorbar": {
             "outlinewidth": 0,
             "ticks": ""
            },
            "colorscale": [
             [
              0,
              "#0d0887"
             ],
             [
              0.1111111111111111,
              "#46039f"
             ],
             [
              0.2222222222222222,
              "#7201a8"
             ],
             [
              0.3333333333333333,
              "#9c179e"
             ],
             [
              0.4444444444444444,
              "#bd3786"
             ],
             [
              0.5555555555555556,
              "#d8576b"
             ],
             [
              0.6666666666666666,
              "#ed7953"
             ],
             [
              0.7777777777777778,
              "#fb9f3a"
             ],
             [
              0.8888888888888888,
              "#fdca26"
             ],
             [
              1,
              "#f0f921"
             ]
            ],
            "type": "histogram2dcontour"
           }
          ],
          "mesh3d": [
           {
            "colorbar": {
             "outlinewidth": 0,
             "ticks": ""
            },
            "type": "mesh3d"
           }
          ],
          "parcoords": [
           {
            "line": {
             "colorbar": {
              "outlinewidth": 0,
              "ticks": ""
             }
            },
            "type": "parcoords"
           }
          ],
          "pie": [
           {
            "automargin": true,
            "type": "pie"
           }
          ],
          "scatter": [
           {
            "fillpattern": {
             "fillmode": "overlay",
             "size": 10,
             "solidity": 0.2
            },
            "type": "scatter"
           }
          ],
          "scatter3d": [
           {
            "line": {
             "colorbar": {
              "outlinewidth": 0,
              "ticks": ""
             }
            },
            "marker": {
             "colorbar": {
              "outlinewidth": 0,
              "ticks": ""
             }
            },
            "type": "scatter3d"
           }
          ],
          "scattercarpet": [
           {
            "marker": {
             "colorbar": {
              "outlinewidth": 0,
              "ticks": ""
             }
            },
            "type": "scattercarpet"
           }
          ],
          "scattergeo": [
           {
            "marker": {
             "colorbar": {
              "outlinewidth": 0,
              "ticks": ""
             }
            },
            "type": "scattergeo"
           }
          ],
          "scattergl": [
           {
            "marker": {
             "colorbar": {
              "outlinewidth": 0,
              "ticks": ""
             }
            },
            "type": "scattergl"
           }
          ],
          "scattermap": [
           {
            "marker": {
             "colorbar": {
              "outlinewidth": 0,
              "ticks": ""
             }
            },
            "type": "scattermap"
           }
          ],
          "scattermapbox": [
           {
            "marker": {
             "colorbar": {
              "outlinewidth": 0,
              "ticks": ""
             }
            },
            "type": "scattermapbox"
           }
          ],
          "scatterpolar": [
           {
            "marker": {
             "colorbar": {
              "outlinewidth": 0,
              "ticks": ""
             }
            },
            "type": "scatterpolar"
           }
          ],
          "scatterpolargl": [
           {
            "marker": {
             "colorbar": {
              "outlinewidth": 0,
              "ticks": ""
             }
            },
            "type": "scatterpolargl"
           }
          ],
          "scatterternary": [
           {
            "marker": {
             "colorbar": {
              "outlinewidth": 0,
              "ticks": ""
             }
            },
            "type": "scatterternary"
           }
          ],
          "surface": [
           {
            "colorbar": {
             "outlinewidth": 0,
             "ticks": ""
            },
            "colorscale": [
             [
              0,
              "#0d0887"
             ],
             [
              0.1111111111111111,
              "#46039f"
             ],
             [
              0.2222222222222222,
              "#7201a8"
             ],
             [
              0.3333333333333333,
              "#9c179e"
             ],
             [
              0.4444444444444444,
              "#bd3786"
             ],
             [
              0.5555555555555556,
              "#d8576b"
             ],
             [
              0.6666666666666666,
              "#ed7953"
             ],
             [
              0.7777777777777778,
              "#fb9f3a"
             ],
             [
              0.8888888888888888,
              "#fdca26"
             ],
             [
              1,
              "#f0f921"
             ]
            ],
            "type": "surface"
           }
          ],
          "table": [
           {
            "cells": {
             "fill": {
              "color": "#EBF0F8"
             },
             "line": {
              "color": "white"
             }
            },
            "header": {
             "fill": {
              "color": "#C8D4E3"
             },
             "line": {
              "color": "white"
             }
            },
            "type": "table"
           }
          ]
         },
         "layout": {
          "annotationdefaults": {
           "arrowcolor": "#2a3f5f",
           "arrowhead": 0,
           "arrowwidth": 1
          },
          "autotypenumbers": "strict",
          "coloraxis": {
           "colorbar": {
            "outlinewidth": 0,
            "ticks": ""
           }
          },
          "colorscale": {
           "diverging": [
            [
             0,
             "#8e0152"
            ],
            [
             0.1,
             "#c51b7d"
            ],
            [
             0.2,
             "#de77ae"
            ],
            [
             0.3,
             "#f1b6da"
            ],
            [
             0.4,
             "#fde0ef"
            ],
            [
             0.5,
             "#f7f7f7"
            ],
            [
             0.6,
             "#e6f5d0"
            ],
            [
             0.7,
             "#b8e186"
            ],
            [
             0.8,
             "#7fbc41"
            ],
            [
             0.9,
             "#4d9221"
            ],
            [
             1,
             "#276419"
            ]
           ],
           "sequential": [
            [
             0,
             "#0d0887"
            ],
            [
             0.1111111111111111,
             "#46039f"
            ],
            [
             0.2222222222222222,
             "#7201a8"
            ],
            [
             0.3333333333333333,
             "#9c179e"
            ],
            [
             0.4444444444444444,
             "#bd3786"
            ],
            [
             0.5555555555555556,
             "#d8576b"
            ],
            [
             0.6666666666666666,
             "#ed7953"
            ],
            [
             0.7777777777777778,
             "#fb9f3a"
            ],
            [
             0.8888888888888888,
             "#fdca26"
            ],
            [
             1,
             "#f0f921"
            ]
           ],
           "sequentialminus": [
            [
             0,
             "#0d0887"
            ],
            [
             0.1111111111111111,
             "#46039f"
            ],
            [
             0.2222222222222222,
             "#7201a8"
            ],
            [
             0.3333333333333333,
             "#9c179e"
            ],
            [
             0.4444444444444444,
             "#bd3786"
            ],
            [
             0.5555555555555556,
             "#d8576b"
            ],
            [
             0.6666666666666666,
             "#ed7953"
            ],
            [
             0.7777777777777778,
             "#fb9f3a"
            ],
            [
             0.8888888888888888,
             "#fdca26"
            ],
            [
             1,
             "#f0f921"
            ]
           ]
          },
          "colorway": [
           "#636efa",
           "#EF553B",
           "#00cc96",
           "#ab63fa",
           "#FFA15A",
           "#19d3f3",
           "#FF6692",
           "#B6E880",
           "#FF97FF",
           "#FECB52"
          ],
          "font": {
           "color": "#2a3f5f"
          },
          "geo": {
           "bgcolor": "white",
           "lakecolor": "white",
           "landcolor": "white",
           "showlakes": true,
           "showland": true,
           "subunitcolor": "#C8D4E3"
          },
          "hoverlabel": {
           "align": "left"
          },
          "hovermode": "closest",
          "mapbox": {
           "style": "light"
          },
          "paper_bgcolor": "white",
          "plot_bgcolor": "white",
          "polar": {
           "angularaxis": {
            "gridcolor": "#EBF0F8",
            "linecolor": "#EBF0F8",
            "ticks": ""
           },
           "bgcolor": "white",
           "radialaxis": {
            "gridcolor": "#EBF0F8",
            "linecolor": "#EBF0F8",
            "ticks": ""
           }
          },
          "scene": {
           "xaxis": {
            "backgroundcolor": "white",
            "gridcolor": "#DFE8F3",
            "gridwidth": 2,
            "linecolor": "#EBF0F8",
            "showbackground": true,
            "ticks": "",
            "zerolinecolor": "#EBF0F8"
           },
           "yaxis": {
            "backgroundcolor": "white",
            "gridcolor": "#DFE8F3",
            "gridwidth": 2,
            "linecolor": "#EBF0F8",
            "showbackground": true,
            "ticks": "",
            "zerolinecolor": "#EBF0F8"
           },
           "zaxis": {
            "backgroundcolor": "white",
            "gridcolor": "#DFE8F3",
            "gridwidth": 2,
            "linecolor": "#EBF0F8",
            "showbackground": true,
            "ticks": "",
            "zerolinecolor": "#EBF0F8"
           }
          },
          "shapedefaults": {
           "line": {
            "color": "#2a3f5f"
           }
          },
          "ternary": {
           "aaxis": {
            "gridcolor": "#DFE8F3",
            "linecolor": "#A2B1C6",
            "ticks": ""
           },
           "baxis": {
            "gridcolor": "#DFE8F3",
            "linecolor": "#A2B1C6",
            "ticks": ""
           },
           "bgcolor": "white",
           "caxis": {
            "gridcolor": "#DFE8F3",
            "linecolor": "#A2B1C6",
            "ticks": ""
           }
          },
          "title": {
           "x": 0.05
          },
          "xaxis": {
           "automargin": true,
           "gridcolor": "#EBF0F8",
           "linecolor": "#EBF0F8",
           "ticks": "",
           "title": {
            "standoff": 15
           },
           "zerolinecolor": "#EBF0F8",
           "zerolinewidth": 2
          },
          "yaxis": {
           "automargin": true,
           "gridcolor": "#EBF0F8",
           "linecolor": "#EBF0F8",
           "ticks": "",
           "title": {
            "standoff": 15
           },
           "zerolinecolor": "#EBF0F8",
           "zerolinewidth": 2
          }
         }
        },
        "title": {
         "text": "<b>Flight Duration by Number of Stops</b>"
        },
        "xaxis": {
         "anchor": "y",
         "domain": [
          0,
          1
         ],
         "tickvals": [
          0,
          1,
          2
         ],
         "title": {
          "text": "Number of Stops"
         }
        },
        "yaxis": {
         "anchor": "x",
         "domain": [
          0,
          1
         ],
         "title": {
          "text": "Duration (minutes)"
         }
        }
       }
      }
     },
     "metadata": {},
     "output_type": "display_data"
    }
   ],
   "source": [
    "# %% [markdown]\n",
    "### 📅 Price & Emissions Heatmaps by Travel Date\n",
    "\n",
    "# %%\n",
    "import plotly.express as px\n",
    "import plotly.graph_objects as go\n",
    "from ipywidgets import widgets, Layout\n",
    "from IPython.display import display, HTML\n",
    "import numpy as np\n",
    "\n",
    "metric_selector = widgets.RadioButtons(\n",
    "    options=['Price', 'CO₂ Emissions'],\n",
    "    value='Price',\n",
    "    description='Metric:',\n",
    "    layout=Layout(width='200px'),\n",
    "    style={'description_width': '100px'}\n",
    ")\n",
    "\n",
    "direction_selector = widgets.RadioButtons(\n",
    "    options=['From Taipei', 'To Taipei'],\n",
    "    value='From Taipei',\n",
    "    description='Direction:',\n",
    "    layout=Layout(width='200px'),\n",
    "    style={'description_width': '100px'}\n",
    ")\n",
    "\n",
    "route_selector = widgets.Dropdown(\n",
    "    options=sorted(df['Route'].unique()),\n",
    "    value='BKK-TPE',\n",
    "    description='Route:',\n",
    "    layout=Layout(width='300px'),\n",
    "    style={'description_width': '100px'}\n",
    ")\n",
    "\n",
    "# Create visualization function\n",
    "def plot_heatmap(metric, direction, route):\n",
    "    # Filter data\n",
    "    if direction == 'From Taipei':\n",
    "        filtered_df = df[(df['From'] == 'TPE') & (df['Route'] == route)]\n",
    "    else:\n",
    "        filtered_df = df[(df['To'] == 'TPE') & (df['Route'] == route)]\n",
    "    \n",
    "    # Create pivot table (days x months)\n",
    "    pivot_df = filtered_df.pivot_table(\n",
    "        values='Price' if metric == 'Price' else 'co2 emissions',\n",
    "        index=filtered_df['Date'].dt.day,\n",
    "        columns=filtered_df['Date'].dt.month,\n",
    "        aggfunc='mean'\n",
    "    )\n",
    "    \n",
    "    # Create custom hover text\n",
    "    hover_text = []\n",
    "    for day in range(1, 32):\n",
    "        hover_row = []\n",
    "        for month in range(6, 9):  # June-August\n",
    "            val = pivot_df.loc[day, month] if day in pivot_df.index and month in pivot_df.columns else np.nan\n",
    "            if not np.isnan(val):\n",
    "                hover_row.append(\n",
    "                    f\"<b>{month}/{day}</b><br>\"\n",
    "                    f\"{'Price' if metric == 'Price' else 'CO₂'}: \"\n",
    "                    f\"{'$' if metric == 'Price' else ''}{val:.0f}{'' if metric == 'Price' else 'kg'}\"\n",
    "                )\n",
    "            else:\n",
    "                hover_row.append(\"No data\")\n",
    "        hover_text.append(hover_row)\n",
    "    \n",
    "    # Create heatmap\n",
    "    fig = go.Figure(data=go.Heatmap(\n",
    "        z=pivot_df.values,\n",
    "        x=pivot_df.columns.map(lambda x: f'2025-{x:02d}'),  # Format as month names\n",
    "        y=pivot_df.index,\n",
    "        colorscale='Viridis' if metric == 'Price' else 'Greens',\n",
    "        colorbar=dict(\n",
    "            title='Price (USD)' if metric == 'Price' else 'CO₂ (kg)',\n",
    "            titleside='right'\n",
    "        ),\n",
    "        hoverinfo='text',\n",
    "        text=hover_text,\n",
    "        texttemplate=\"%{text}\",\n",
    "        zmin=filtered_df['Price'].min() if metric == 'Price' else filtered_df['co2 emissions'].min(),\n",
    "        zmax=filtered_df['Price'].max() if metric == 'Price' else filtered_df['co2 emissions'].max()\n",
    "    ))\n",
    "    \n",
    "    # Update layout\n",
    "    fig.update_layout(\n",
    "        title=f\"<b>{metric} Heatmap ({direction}) - {route}</b><br><sub>Hover to see exact values</sub>\",\n",
    "        xaxis_title=\"Month\",\n",
    "        yaxis_title=\"Day of Month\",\n",
    "        height=600,\n",
    "        plot_bgcolor='white',\n",
    "        paper_bgcolor='white',\n",
    "        font=dict(family='Arial', size=12),\n",
    "        margin=dict(l=50, r=50, t=100, b=50),\n",
    "        xaxis=dict(\n",
    "            tickmode='array',\n",
    "            tickvals=pivot_df.columns,\n",
    "            ticktext=['Jun', 'Jul', 'Aug']\n",
    "        ),\n",
    "        yaxis=dict(\n",
    "            autorange='reversed',\n",
    "            tickmode='linear',\n",
    "            dtick=1\n",
    "        )\n",
    "    )\n",
    "    \n",
    "    # Add optimal day annotations\n",
    "    if metric == 'Price':\n",
    "        optimal_val = filtered_df['Price'].min()\n",
    "    else:\n",
    "        optimal_val = filtered_df['co2 emissions'].min()\n",
    "    \n",
    "    optimal_days = filtered_df[\n",
    "        (filtered_df['Price' if metric == 'Price' else 'co2 emissions'] == optimal_val)\n",
    "    ]['Date']\n",
    "    \n",
    "    for day in optimal_days:\n",
    "        fig.add_annotation(\n",
    "            x=day.month,\n",
    "            y=day.day,\n",
    "            text=\"⭐\",\n",
    "            showarrow=False,\n",
    "            font=dict(size=15, color='gold')\n",
    "        )\n",
    "    \n",
    "    fig.show()\n",
    "\n",
    "# Create control panel\n",
    "controls = widgets.VBox([\n",
    "    widgets.HBox([metric_selector, direction_selector, route_selector]),\n",
    "], layout=Layout(\n",
    "    padding='20px',\n",
    "    border='1px solid #dee2e6',\n",
    "    border_radius='12px',\n",
    "    margin='0 0 20px 0'\n",
    "))\n",
    "\n",
    "# Display the controls and visualization\n",
    "display(controls)\n",
    "widgets.interactive_output(\n",
    "    plot_heatmap,\n",
    "    {'metric': metric_selector, 'direction': direction_selector, 'route': route_selector}\n",
    ")\n",
    "\n",
    "# Create Duration vs Stops visualization\n",
    "def plot_duration_stops():\n",
    "    fig = px.box(\n",
    "        df,\n",
    "        x='Stops',\n",
    "        y='Flight Duration',\n",
    "        color='Stops_Category',\n",
    "        points='all',\n",
    "        title='<b>Flight Duration by Number of Stops</b>',\n",
    "        labels={'Flight Duration': 'Duration (minutes)', 'Stops': 'Number of Stops'},\n",
    "        height=500\n",
    "    )\n",
    "    \n",
    "    fig.update_layout(\n",
    "        plot_bgcolor='white',\n",
    "        paper_bgcolor='white',\n",
    "        xaxis=dict(tickvals=sorted(df['Stops'].unique())),\n",
    "        showlegend=False\n",
    "    )\n",
    "    \n",
    "    # Add trend line annotation\n",
    "    fig.add_annotation(\n",
    "        x=0.5, y=0.9,\n",
    "        xref='paper', yref='paper',\n",
    "        text=\"<i>Trend: More stops generally increase total duration</i>\",\n",
    "        showarrow=False,\n",
    "        font=dict(size=12, color='gray')\n",
    "    )\n",
    "    \n",
    "    fig.show()\n",
    "\n",
    "# Create interactive widgets\n",
    "controls = widgets.VBox([\n",
    "    widgets.HBox([direction_selector, metric_selector]),\n",
    "], layout=Layout(\n",
    "    padding='20px',\n",
    "    border='1px solid #dee2e6',\n",
    "    border_radius='12px',\n",
    "    margin='0 0 20px 0'\n",
    "))\n",
    "\n",
    "# Display the controls and visualizations\n",
    "display(controls)\n",
    "widgets.interactive_output(plot_heatmaps, {'direction': direction_selector, 'metric': metric_selector})\n",
    "\n",
    "# Display the Duration vs Stops visualization\n",
    "plot_duration_stops()"
   ]
  },
  {
   "cell_type": "markdown",
   "id": "72c9acd0",
   "metadata": {},
   "source": [
    "Artifact 6: Anomaly Detection"
   ]
  },
  {
   "cell_type": "code",
   "execution_count": null,
   "id": "754f8c85",
   "metadata": {},
   "outputs": [],
   "source": [
    "# Markdown: Anomaly Detection\n",
    "\"\"\"\n",
    "## Anomaly Detection\n",
    "This section identifies outliers in price, duration, and emissions using the IQR method, visualized with box plots.\n",
    "\"\"\"\n",
    "\n",
    "# Outlier detection function\n",
    "def detect_outliers(df, column):\n",
    "    Q1 = df[column].quantile(0.25)\n",
    "    Q3 = df[column].quantile(0.75)\n",
    "    IQR = Q3 - Q1\n",
    "    lower_bound = Q1 - 1.5 * IQR\n",
    "    upper_bound = Q3 + 1.5 * IQR\n",
    "    outliers = df[(df[column] < lower_bound) | (df[column] > upper_bound)]\n",
    "    return outliers\n",
    "\n",
    "# Detect outliers\n",
    "price_outliers = detect_outliers(df, 'Price')\n",
    "duration_outliers = detect_outliers(df, 'Flight Duration')\n",
    "emissions_outliers = detect_outliers(df, 'co2 emissions')\n",
    "print(\"Price Outliers:\", len(price_outliers))\n",
    "print(\"Duration Outliers:\", len(duration_outliers))\n",
    "print(\"Emissions Outliers:\", len(emissions_outliers))\n",
    "\n",
    "# Box plots with outliers\n",
    "fig = make_subplots(rows=1, cols=3, subplot_titles=['Price (USD)', 'Flight Duration (minutes)', 'CO2 Emissions (kg)'])\n",
    "fig.add_trace(go.Box(x=df['Route'], y=df['Price'], name='Price', marker_color='#1f77b4'), row=1, col=1)\n",
    "fig.add_trace(go.Box(x=df['Route'], y=df['Flight Duration'], name='Duration', marker_color='#ff7f0e'), row=1, col=2)\n",
    "fig.add_trace(go.Box(x=df['Route'], y=df['co2 emissions'], name='CO2 Emissions', marker_color='#2ca02c'), row=1, col=3)\n",
    "fig.update_layout(title_text='Outlier Detection by Route', showlegend=False, height=500)\n",
    "fig.update_xaxes(tickangle=45)\n",
    "fig.show()"
   ]
  },
  {
   "cell_type": "markdown",
   "id": "6d81cbde",
   "metadata": {},
   "source": [
    "Artifact 7: Conclusion"
   ]
  },
  {
   "cell_type": "code",
   "execution_count": null,
   "id": "6bebfcc3",
   "metadata": {},
   "outputs": [],
   "source": []
  }
 ],
 "metadata": {
  "kernelspec": {
   "display_name": ".venv",
   "language": "python",
   "name": "python3"
  },
  "language_info": {
   "codemirror_mode": {
    "name": "ipython",
    "version": 3
   },
   "file_extension": ".py",
   "mimetype": "text/x-python",
   "name": "python",
   "nbconvert_exporter": "python",
   "pygments_lexer": "ipython3",
   "version": "3.13.3"
  }
 },
 "nbformat": 4,
 "nbformat_minor": 5
}
